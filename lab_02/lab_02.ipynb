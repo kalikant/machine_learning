{
 "cells": [
  {
   "cell_type": "code",
   "execution_count": null,
   "metadata": {},
   "outputs": [],
   "source": [
    "# Importing packages\n",
    "import numpy as np\n",
    "import pandas as pd\n",
    "import matplotlib.pyplot as plt\n",
    "from scipy import stats"
   ]
  },
  {
   "cell_type": "code",
   "execution_count": null,
   "metadata": {},
   "outputs": [],
   "source": [
    "#Using numpy & Scipy to calculate Mean, Median, Mode\n",
    "BP = [150, 123, 134, 170, 146, 124, 113]\n",
    "cholesterol = [274, 366, 327, 274, 292, 274, 230]\n",
    "\n",
    "#Mean blood pressure\n",
    "mean = np.mean(BP)\n",
    "median = np.median(BP)\n",
    "mode = stats.mode(cholesterol)\n",
    "\n",
    "print(\"Mean: \", mean)\n",
    "print(\"Median: \", median)\n",
    "print(\"Mode: \", mode)\n",
    "\n",
    "\n"
   ]
  },
  {
   "cell_type": "code",
   "execution_count": null,
   "metadata": {},
   "outputs": [],
   "source": [
    "#Using numpy & Scipy to calculate median\n",
    "BP = [150, 123, 134, 170, 146, 124, 113]\n",
    "\n",
    "#Median blood pressure\n",
    "median = np.median(BP)\n",
    "print(np.round(median), 2)"
   ]
  },
  {
   "cell_type": "code",
   "execution_count": null,
   "metadata": {},
   "outputs": [],
   "source": [
    "#Using numpy & Scipy to calculate mode\n",
    "cholesterol = [366, 327, 274, 292, 274, 230]\n",
    "\n",
    "mode = stats.mode(cholesterol)\n",
    "print(mode[0])"
   ]
  },
  {
   "cell_type": "code",
   "execution_count": null,
   "metadata": {},
   "outputs": [],
   "source": [
    "# height and weight of 10 students\n",
    "ht = [5.1, 5.8, 5.11, 4.10, 6.1, 5.4, 5.6, 4.8, 5.2, 6.0]\n",
    "wt = [127, 121, 142, 157, 162, 156, 159, 165, 181, 208]"
   ]
  },
  {
   "cell_type": "code",
   "execution_count": null,
   "metadata": {},
   "outputs": [],
   "source": [
    "#creating a dictionary using the height and weight lists\n",
    "d = {\"height\": ht, \"weight\": wt}\n",
    "\n",
    "#creating a pandas data frame using dictionaries\n",
    "df = pd.DataFrame(d)\n",
    "\n",
    "print(type(df))\n",
    "df"
   ]
  },
  {
   "cell_type": "code",
   "execution_count": null,
   "metadata": {},
   "outputs": [],
   "source": [
    "# standard deviation of height variable\n",
    "print(\"sd of height:\", np.std(df['height']))\n",
    "\n",
    "# standard deviation of weight variable\n",
    "print(\"sd of weight:\", np.std(df[\"weight\"]))"
   ]
  },
  {
   "cell_type": "code",
   "execution_count": null,
   "metadata": {},
   "outputs": [],
   "source": [
    "# Variation in height variable\n",
    "print(\"Variation in height: \", np.var(df['height']))\n",
    "\n",
    "# Variation in weight variable\n",
    "print(\"Variation in weight: \", np.var(df[\"weight\"]))"
   ]
  },
  {
   "cell_type": "code",
   "execution_count": null,
   "metadata": {},
   "outputs": [],
   "source": [
    "# Range\n",
    "ht_max = np.max(df[\"height\"])\n",
    "ht_min = np.min(df[\"height\"])\n",
    "print(\"range of height: \", (ht_max-ht_min))\n",
    "\n",
    "wt_max = np.max(df[\"weight\"])\n",
    "wt_min = np.min(df[\"weight\"])\n",
    "print(\"range of weight: \", (wt_max-wt_min))"
   ]
  },
  {
   "cell_type": "code",
   "execution_count": null,
   "metadata": {},
   "outputs": [],
   "source": [
    "# percentile\n",
    "ht_25 = np.percentile(ht, 25)\n",
    "ht_50 = np.percentile(ht, 50)\n",
    "ht_75 = np.percentile(ht, 75)\n",
    "\n",
    "print(\"25th percentile {}\".format(ht_25)) \n",
    "print(\"50th percentile {}\".format(ht_50))\n",
    "print(\"75th percentile {}\".format(ht_75))"
   ]
  },
  {
   "cell_type": "code",
   "execution_count": null,
   "metadata": {},
   "outputs": [],
   "source": [
    "# Quantiles\n",
    "wt_Q1 = np.quantile(wt, .25)\n",
    "wt_Q2 = np.quantile(wt, .50)\n",
    "wt_Q3 = np.quantile(wt, .75)\n",
    "\n",
    "wt_IQR = wt_Q3 - wt_Q1\n",
    "\n",
    "print(\"Q1 of weight\", wt_Q1)\n",
    "print(\"Q2 of weight\", wt_Q2)\n",
    "print(\"Q3 of weight\", wt_Q3)\n",
    "print(\"IQR of weight\", wt_IQR)"
   ]
  },
  {
   "cell_type": "code",
   "execution_count": null,
   "metadata": {},
   "outputs": [],
   "source": [
    "# Boxplot\n",
    "plt.boxplot(df['weight'])\n",
    "plt.title(\"Boxplot\")\n",
    "plt.ylabel(\"weights\")\n",
    "plt.show()"
   ]
  },
  {
   "cell_type": "code",
   "execution_count": null,
   "metadata": {},
   "outputs": [],
   "source": [
    "# Boxplot\n",
    "plt.boxplot(df['height'])\n",
    "plt.title(\"Boxplot\")\n",
    "plt.ylabel(\"height\")\n",
    "plt.show()"
   ]
  },
  {
   "cell_type": "code",
   "execution_count": null,
   "metadata": {},
   "outputs": [],
   "source": [
    "#import seaborn package\n",
    "import seaborn as sns\n",
    "#genrating 100 random numbers which follows normal distribution\n",
    "x = np.random.randn(100)\n",
    "sns.distplot(x)\n",
    "plt.ylabel(\"Density\")\n",
    "plt.title(\"Symmetrical distribution\")"
   ]
  },
  {
   "cell_type": "code",
   "execution_count": null,
   "metadata": {},
   "outputs": [],
   "source": [
    "#lets include few extreme small data points in x and check the distribtion\n",
    "x[97:] = [-15, -10, -5]\n",
    "sns.distplot(x)\n",
    "plt.ylabel(\"Density\")\n",
    "plt.title(\"Negitively skewed plot\")"
   ]
  },
  {
   "cell_type": "code",
   "execution_count": null,
   "metadata": {},
   "outputs": [],
   "source": [
    "#lets include few extrem large data points in x and check the distribution\n",
    "x[97:] = [15, 10, 5]\n",
    "sns.distplot(x)\n",
    "plt.ylabel(\"Density\")\n",
    "plt.title(\"Positively skewed plot\")"
   ]
  }
 ],
 "metadata": {
  "kernelspec": {
   "display_name": "Python 3",
   "language": "python",
   "name": "python3"
  },
  "language_info": {
   "codemirror_mode": {
    "name": "ipython",
    "version": 3
   },
   "file_extension": ".py",
   "mimetype": "text/x-python",
   "name": "python",
   "nbconvert_exporter": "python",
   "pygments_lexer": "ipython3",
   "version": "3.8.6"
  }
 },
 "nbformat": 4,
 "nbformat_minor": 2
}
