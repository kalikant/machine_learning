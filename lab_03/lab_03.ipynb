{
 "cells": [
  {
   "cell_type": "markdown",
   "metadata": {},
   "source": [
    "# Binomial Distribution"
   ]
  },
  {
   "cell_type": "code",
   "execution_count": null,
   "metadata": {},
   "outputs": [],
   "source": [
    "import numpy as np\n",
    "import seaborn\n",
    "from scipy.stats import binom\n",
    "import matplotlib.pyplot as plt\n",
    "\n",
    "data = binom.rvs(n=17, p=0.7, loc=0, size=1010)\n",
    "ax = seaborn.distplot(data, kde=True, color= 'blue',\n",
    "                     hist_kws= {'linewidth':22, 'alpha':0.77})\n",
    "ax.set(xlabel='Binomial', ylabel='Frequency')"
   ]
  },
  {
   "cell_type": "code",
   "execution_count": null,
   "metadata": {},
   "outputs": [],
   "source": [
    "#Initializing values\n",
    "n = 6\n",
    "x = 4\n",
    "p = 0.25\n",
    "q = 0.75"
   ]
  },
  {
   "cell_type": "code",
   "execution_count": null,
   "metadata": {},
   "outputs": [],
   "source": [
    "binomial = binom.pmf(x, n, p)\n",
    "print(\"The probability of 4 patients recover: \", np.round(binomial, 6))"
   ]
  },
  {
   "cell_type": "code",
   "execution_count": null,
   "metadata": {},
   "outputs": [],
   "source": [
    "#I ask python to return 10000 binomial random variables\n",
    "binom_sim = binom.rvs(n=6, p=0.25, size=10000)\n",
    "\n",
    "print(\"Mean: \", np.mean(binom_sim))\n",
    "print(\"SD: \", np.std(binom_sim, ddof=1))"
   ]
  },
  {
   "cell_type": "code",
   "execution_count": null,
   "metadata": {},
   "outputs": [],
   "source": [
    "#plotting the histogram\n",
    "plt.hist(binom_sim, bins = 6, density=True)\n",
    "plt.xlabel(\"x\")\n",
    "plt.ylabel(\"density\")\n",
    "plt.show()"
   ]
  },
  {
   "cell_type": "code",
   "execution_count": null,
   "metadata": {},
   "outputs": [],
   "source": [
    "patients = {\"recovery\" : list(range(0, n+1))}\n",
    "patients['recovery'] "
   ]
  },
  {
   "cell_type": "code",
   "execution_count": null,
   "metadata": {},
   "outputs": [],
   "source": [
    "#importing pandas to create data frame\n",
    "import pandas as pd\n",
    "\n",
    "binom_table = pd.DataFrame(patients)\n",
    "binom_table"
   ]
  },
  {
   "cell_type": "code",
   "execution_count": null,
   "metadata": {},
   "outputs": [],
   "source": [
    "prob = lambda x: binom.pmf(x, n, p)\n",
    "\n",
    "binom_table['probability'] = binom_table['recovery'].apply(prob)\n",
    "binom_table"
   ]
  },
  {
   "cell_type": "code",
   "execution_count": null,
   "metadata": {},
   "outputs": [],
   "source": [
    "binom_table.head()"
   ]
  },
  {
   "cell_type": "code",
   "execution_count": null,
   "metadata": {},
   "outputs": [],
   "source": [
    "binom_table['probability'].plot.bar(x=\"recovery\", y=\"Probability\")\n",
    "plt.title(\"Probability distribution of patients recovery\")\n",
    "plt.xlabel(\"No of patients\")\n",
    "plt.ylabel(\"Probability\")"
   ]
  },
  {
   "cell_type": "code",
   "execution_count": null,
   "metadata": {},
   "outputs": [],
   "source": [
    "# Initializing the values\n",
    "p = 0.8\n",
    "n = 10\n",
    "x = 7"
   ]
  },
  {
   "cell_type": "code",
   "execution_count": null,
   "metadata": {},
   "outputs": [],
   "source": [
    "binomial = binom.pmf(x, n, p)\n",
    "print(\"The probability of having 7 successes in 10 attempts: \", np.round(binomial, 4))"
   ]
  },
  {
   "cell_type": "markdown",
   "metadata": {},
   "source": [
    "# Poisson Distribution"
   ]
  },
  {
   "cell_type": "code",
   "execution_count": null,
   "metadata": {},
   "outputs": [],
   "source": [
    "#initializing values\n",
    "p = 0.1\n",
    "n = 9\n",
    "x = 9\n",
    "q = 0.9"
   ]
  },
  {
   "cell_type": "code",
   "execution_count": null,
   "metadata": {},
   "outputs": [],
   "source": [
    "binomial = binom.pmf(x, n, q)\n",
    "print(\"Probability that all the nine wells fail: \", np.round(binomial, 4))"
   ]
  },
  {
   "cell_type": "code",
   "execution_count": null,
   "metadata": {},
   "outputs": [],
   "source": [
    "# importing poisson function from scipy.stats module\n",
    "from scipy.stats import poisson\n",
    "\n",
    "prob = poisson.pmf(4, 3)\n",
    "print(\"Probability:\", np.round(prob, 4))"
   ]
  },
  {
   "cell_type": "code",
   "execution_count": null,
   "metadata": {},
   "outputs": [],
   "source": [
    "# average birds observed singing in a minute\n",
    "lambd = 3\n",
    "\n",
    "# generating a range of k values\n",
    "k_values = np.arange(0, 25)\n",
    "\n",
    "# create a distribution variable\n",
    "distribution = np.zeros(k_values.shape[0])"
   ]
  },
  {
   "cell_type": "code",
   "execution_count": null,
   "metadata": {},
   "outputs": [],
   "source": [
    "#writing a for loop\n",
    "for i in range(k_values.shape[0]):\n",
    "    distribution[i] = poisson.pmf(i, lambd)"
   ]
  },
  {
   "cell_type": "code",
   "execution_count": null,
   "metadata": {},
   "outputs": [],
   "source": [
    "#plotting a bar plot\n",
    "\n",
    "plt.bar(k_values, distribution)"
   ]
  },
  {
   "cell_type": "code",
   "execution_count": null,
   "metadata": {},
   "outputs": [],
   "source": [
    "# initializing the k and λ values\n",
    "λ = 3/20\n",
    "k = 1"
   ]
  },
  {
   "cell_type": "code",
   "execution_count": null,
   "metadata": {},
   "outputs": [],
   "source": [
    "prob = poisson.pmf(k, λ)\n",
    "print(\"Probability: \", np.round(prob, 4))"
   ]
  }
 ],
 "metadata": {
  "kernelspec": {
   "display_name": "Python 3",
   "language": "python",
   "name": "python3"
  },
  "language_info": {
   "codemirror_mode": {
    "name": "ipython",
    "version": 3
   },
   "file_extension": ".py",
   "mimetype": "text/x-python",
   "name": "python",
   "nbconvert_exporter": "python",
   "pygments_lexer": "ipython3",
   "version": "3.8.6"
  }
 },
 "nbformat": 4,
 "nbformat_minor": 2
}
