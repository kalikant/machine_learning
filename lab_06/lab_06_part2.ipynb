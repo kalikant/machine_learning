{
 "cells": [
  {
   "cell_type": "code",
   "execution_count": null,
   "metadata": {
    "executionInfo": {
     "elapsed": 1282,
     "status": "ok",
     "timestamp": 1616593644498,
     "user": {
      "displayName": "Bharath Kumar",
      "photoUrl": "https://lh3.googleusercontent.com/a-/AOh14Ggb_xp-gXCTQIDjnT3fR_fAZQzItK1E5U9sunL_rw=s64",
      "userId": "04449719777745726086"
     },
     "user_tz": -330
    },
    "id": "XuGP6IDdRyHK"
   },
   "outputs": [],
   "source": [
    "# necessary Imports\n",
    "import pandas as pd\n",
    "import matplotlib.pyplot as plt\n",
    "import pickle\n",
    "import numpy as np\n",
    "import warnings\n",
    "warnings.simplefilter(action='ignore', category=Warning)"
   ]
  },
  {
   "cell_type": "code",
   "execution_count": null,
   "metadata": {
    "colab": {
     "base_uri": "https://localhost:8080/",
     "height": 238
    },
    "executionInfo": {
     "elapsed": 2016,
     "status": "ok",
     "timestamp": 1616593645268,
     "user": {
      "displayName": "Bharath Kumar",
      "photoUrl": "https://lh3.googleusercontent.com/a-/AOh14Ggb_xp-gXCTQIDjnT3fR_fAZQzItK1E5U9sunL_rw=s64",
      "userId": "04449719777745726086"
     },
     "user_tz": -330
    },
    "id": "aJ8ur5jHSV1V",
    "outputId": "5dbe47ef-74cd-43b0-f419-7cfddc641c20"
   },
   "outputs": [],
   "source": [
    "data = pd.read_csv(\"./Datasets/Advertising.csv\", index_col='Index')\n",
    "data.head()"
   ]
  },
  {
   "cell_type": "code",
   "execution_count": null,
   "metadata": {
    "colab": {
     "base_uri": "https://localhost:8080/",
     "height": 238
    },
    "executionInfo": {
     "elapsed": 1997,
     "status": "ok",
     "timestamp": 1616593645272,
     "user": {
      "displayName": "Bharath Kumar",
      "photoUrl": "https://lh3.googleusercontent.com/a-/AOh14Ggb_xp-gXCTQIDjnT3fR_fAZQzItK1E5U9sunL_rw=s64",
      "userId": "04449719777745726086"
     },
     "user_tz": -330
    },
    "id": "TWvccraAShfb",
    "outputId": "fbae1cab-fb17-4884-8cee-5a43387b3718"
   },
   "outputs": [],
   "source": [
    "import numpy as np\n",
    "\n",
    "# set a seed for reproducibility\n",
    "np.random.seed(12345)\n",
    "\n",
    "# create a Series of booleans in which roughly half are True\n",
    "nums = np.random.rand(len(data))\n",
    "mask_large = nums > 0.5\n",
    "\n",
    "# initially set Size to small, then change roughly half to be large\n",
    "data['Scale'] = 'small'\n",
    "data.loc[mask_large, 'Scale'] = 'large'\n",
    "data.head()"
   ]
  },
  {
   "cell_type": "code",
   "execution_count": null,
   "metadata": {
    "colab": {
     "base_uri": "https://localhost:8080/",
     "height": 238
    },
    "executionInfo": {
     "elapsed": 1974,
     "status": "ok",
     "timestamp": 1616593645275,
     "user": {
      "displayName": "Bharath Kumar",
      "photoUrl": "https://lh3.googleusercontent.com/a-/AOh14Ggb_xp-gXCTQIDjnT3fR_fAZQzItK1E5U9sunL_rw=s64",
      "userId": "04449719777745726086"
     },
     "user_tz": -330
    },
    "id": "iAQPPuepV3rP",
    "outputId": "c2d88f30-9385-457d-acd6-3328f9303e7c"
   },
   "outputs": [],
   "source": [
    "# create a new Series called IsLarge\n",
    "data['IsLarge'] = data.Scale.map({'small':0, 'large':1})\n",
    "data.head()"
   ]
  },
  {
   "cell_type": "code",
   "execution_count": null,
   "metadata": {
    "colab": {
     "base_uri": "https://localhost:8080/"
    },
    "executionInfo": {
     "elapsed": 3317,
     "status": "ok",
     "timestamp": 1616593646635,
     "user": {
      "displayName": "Bharath Kumar",
      "photoUrl": "https://lh3.googleusercontent.com/a-/AOh14Ggb_xp-gXCTQIDjnT3fR_fAZQzItK1E5U9sunL_rw=s64",
      "userId": "04449719777745726086"
     },
     "user_tz": -330
    },
    "id": "L-2U0Cn1WRHH",
    "outputId": "edde6942-479f-4847-c70e-2b95991b2b75"
   },
   "outputs": [],
   "source": [
    "# create X and y\n",
    "feature_cols = ['TV', 'Radio', 'Newspaper', 'IsLarge']\n",
    "X = data[feature_cols]\n",
    "y = data.Sales\n",
    "\n",
    "# instantiate, fit\n",
    "from sklearn.linear_model import LinearRegression\n",
    "lm = LinearRegression()\n",
    "lm.fit(X, y)\n",
    "\n",
    "# print coefficients\n",
    "i=0\n",
    "for col in feature_cols:\n",
    "    print('The Coefficient of ',col, ' is: ',lm.coef_[i])\n",
    "    i=i+1"
   ]
  },
  {
   "cell_type": "code",
   "execution_count": null,
   "metadata": {
    "colab": {
     "base_uri": "https://localhost:8080/",
     "height": 238
    },
    "executionInfo": {
     "elapsed": 3308,
     "status": "ok",
     "timestamp": 1616593646645,
     "user": {
      "displayName": "Bharath Kumar",
      "photoUrl": "https://lh3.googleusercontent.com/a-/AOh14Ggb_xp-gXCTQIDjnT3fR_fAZQzItK1E5U9sunL_rw=s64",
      "userId": "04449719777745726086"
     },
     "user_tz": -330
    },
    "id": "LiFgPVZyYWuV",
    "outputId": "b82957d1-b9c9-40cc-eef0-ac3f358f0c12"
   },
   "outputs": [],
   "source": [
    "# set a seed for reproducibility\n",
    "np.random.seed(123456)\n",
    "\n",
    "# assign roughly one third of observations to each group\n",
    "nums = np.random.rand(len(data))\n",
    "mask_suburban = (nums > 0.33) & (nums < 0.66)\n",
    "mask_urban = nums > 0.66\n",
    "data['Targeted Geography'] = 'rural'\n",
    "data.loc[mask_suburban, 'Targeted Geography'] = 'suburban'\n",
    "data.loc[mask_urban, 'Targeted Geography'] = 'urban'\n",
    "data.head()"
   ]
  },
  {
   "cell_type": "code",
   "execution_count": null,
   "metadata": {
    "colab": {
     "base_uri": "https://localhost:8080/",
     "height": 275
    },
    "executionInfo": {
     "elapsed": 3297,
     "status": "ok",
     "timestamp": 1616593646650,
     "user": {
      "displayName": "Bharath Kumar",
      "photoUrl": "https://lh3.googleusercontent.com/a-/AOh14Ggb_xp-gXCTQIDjnT3fR_fAZQzItK1E5U9sunL_rw=s64",
      "userId": "04449719777745726086"
     },
     "user_tz": -330
    },
    "id": "cQdgZAPSZAth",
    "outputId": "a5ba720a-0329-4a87-d3af-01353999ee46"
   },
   "outputs": [],
   "source": [
    "# create three dummy variables using get_dummies, then exclude the first dummy column\n",
    "area_dummies = pd.get_dummies(data['Targeted Geography'], prefix='Targeted Geography').iloc[:, 1:]\n",
    "\n",
    "# concatenate the dummy variable columns onto the original DataFrame (axis=0 means rows, axis=1 means columns)\n",
    "data = pd.concat([data, area_dummies], axis=1)\n",
    "data.head()"
   ]
  },
  {
   "cell_type": "code",
   "execution_count": null,
   "metadata": {
    "colab": {
     "base_uri": "https://localhost:8080/"
    },
    "executionInfo": {
     "elapsed": 3287,
     "status": "ok",
     "timestamp": 1616593646655,
     "user": {
      "displayName": "Bharath Kumar",
      "photoUrl": "https://lh3.googleusercontent.com/a-/AOh14Ggb_xp-gXCTQIDjnT3fR_fAZQzItK1E5U9sunL_rw=s64",
      "userId": "04449719777745726086"
     },
     "user_tz": -330
    },
    "id": "mN4_JRBga7Lv",
    "outputId": "e7cd4c0e-28d1-4985-8a1c-4234c5448002"
   },
   "outputs": [],
   "source": [
    "# create X and y\n",
    "feature_cols = ['TV', 'Radio', 'Newspaper', 'IsLarge', 'Targeted Geography_suburban', 'Targeted Geography_urban']\n",
    "X = data[feature_cols]\n",
    "y = data.Sales\n",
    "\n",
    "# instantiate, fit\n",
    "lm = LinearRegression()\n",
    "lm.fit(X, y)\n",
    "\n",
    "# print coefficients\n",
    "print(feature_cols)\n",
    "print(lm.coef_)"
   ]
  },
  {
   "cell_type": "markdown",
   "metadata": {
    "id": "Z3LzdRxHlX1V"
   },
   "source": [
    "Regularization"
   ]
  },
  {
   "cell_type": "code",
   "execution_count": null,
   "metadata": {
    "colab": {
     "base_uri": "https://localhost:8080/"
    },
    "executionInfo": {
     "elapsed": 2105,
     "status": "ok",
     "timestamp": 1616595249563,
     "user": {
      "displayName": "Bharath Kumar",
      "photoUrl": "https://lh3.googleusercontent.com/a-/AOh14Ggb_xp-gXCTQIDjnT3fR_fAZQzItK1E5U9sunL_rw=s64",
      "userId": "04449719777745726086"
     },
     "user_tz": -330
    },
    "id": "0h9OtcHLbild",
    "outputId": "692c0163-2a7f-45f5-d460-9e72ef49ea2f"
   },
   "outputs": [],
   "source": [
    "#Let's start with importing necessary libraries\n",
    "\n",
    "import pandas as pd \n",
    "import numpy as np \n",
    "from sklearn.preprocessing import StandardScaler \n",
    "from sklearn.linear_model  import Ridge,Lasso,RidgeCV, LassoCV, ElasticNet, ElasticNetCV, LinearRegression\n",
    "from sklearn.model_selection import train_test_split\n",
    "import statsmodels.api as sm \n",
    "import matplotlib.pyplot as plt\n",
    "import seaborn as sns\n",
    "sns.set()"
   ]
  },
  {
   "cell_type": "code",
   "execution_count": null,
   "metadata": {
    "colab": {
     "base_uri": "https://localhost:8080/",
     "height": 224
    },
    "executionInfo": {
     "elapsed": 880,
     "status": "ok",
     "timestamp": 1616595542735,
     "user": {
      "displayName": "Bharath Kumar",
      "photoUrl": "https://lh3.googleusercontent.com/a-/AOh14Ggb_xp-gXCTQIDjnT3fR_fAZQzItK1E5U9sunL_rw=s64",
      "userId": "04449719777745726086"
     },
     "user_tz": -330
    },
    "id": "ZQTa1gVrlfb4",
    "outputId": "ab96d03c-80a3-494c-a635-5c85bef07385"
   },
   "outputs": [],
   "source": [
    "admin = pd.read_csv(\"./Datasets/Admission_Prediction.csv\")\n",
    "admin.head()"
   ]
  },
  {
   "cell_type": "code",
   "execution_count": null,
   "metadata": {
    "colab": {
     "base_uri": "https://localhost:8080/",
     "height": 338
    },
    "executionInfo": {
     "elapsed": 880,
     "status": "ok",
     "timestamp": 1616596713066,
     "user": {
      "displayName": "Bharath Kumar",
      "photoUrl": "https://lh3.googleusercontent.com/a-/AOh14Ggb_xp-gXCTQIDjnT3fR_fAZQzItK1E5U9sunL_rw=s64",
      "userId": "04449719777745726086"
     },
     "user_tz": -330
    },
    "id": "K5ldDFdJq7ka",
    "outputId": "f1b00291-36e2-490f-d604-dbb81e3288bc"
   },
   "outputs": [],
   "source": [
    "admin.describe()"
   ]
  },
  {
   "cell_type": "code",
   "execution_count": null,
   "metadata": {
    "colab": {
     "base_uri": "https://localhost:8080/"
    },
    "executionInfo": {
     "elapsed": 873,
     "status": "ok",
     "timestamp": 1616596739445,
     "user": {
      "displayName": "Bharath Kumar",
      "photoUrl": "https://lh3.googleusercontent.com/a-/AOh14Ggb_xp-gXCTQIDjnT3fR_fAZQzItK1E5U9sunL_rw=s64",
      "userId": "04449719777745726086"
     },
     "user_tz": -330
    },
    "id": "BNx_iBO3rGD0",
    "outputId": "2885c0eb-2350-4bd3-e133-c3271370fdd1"
   },
   "outputs": [],
   "source": [
    "admin.isnull().sum()"
   ]
  },
  {
   "cell_type": "code",
   "execution_count": null,
   "metadata": {
    "executionInfo": {
     "elapsed": 624,
     "status": "ok",
     "timestamp": 1616597509619,
     "user": {
      "displayName": "Bharath Kumar",
      "photoUrl": "https://lh3.googleusercontent.com/a-/AOh14Ggb_xp-gXCTQIDjnT3fR_fAZQzItK1E5U9sunL_rw=s64",
      "userId": "04449719777745726086"
     },
     "user_tz": -330
    },
    "id": "n87PPjQgt5EK"
   },
   "outputs": [],
   "source": [
    "admin['University Rating'] = admin['University Rating'].fillna(admin['University Rating'].mode()[0])\n",
    "admin['TOEFL Score'] = admin['TOEFL Score'].fillna(admin['TOEFL Score'].mean())\n",
    "admin['GRE Score']  = admin['GRE Score'].fillna(admin['GRE Score'].mean())"
   ]
  },
  {
   "cell_type": "code",
   "execution_count": null,
   "metadata": {
    "colab": {
     "base_uri": "https://localhost:8080/",
     "height": 224
    },
    "executionInfo": {
     "elapsed": 975,
     "status": "ok",
     "timestamp": 1616597667333,
     "user": {
      "displayName": "Bharath Kumar",
      "photoUrl": "https://lh3.googleusercontent.com/a-/AOh14Ggb_xp-gXCTQIDjnT3fR_fAZQzItK1E5U9sunL_rw=s64",
      "userId": "04449719777745726086"
     },
     "user_tz": -330
    },
    "id": "U5e2RbaUuqUm",
    "outputId": "483718ea-6794-4b0a-ee19-7f0dc2585622"
   },
   "outputs": [],
   "source": [
    "admin= admin.drop(columns = ['Serial No.'])\n",
    "admin.head()"
   ]
  },
  {
   "cell_type": "code",
   "execution_count": null,
   "metadata": {
    "colab": {
     "base_uri": "https://localhost:8080/",
     "height": 1000
    },
    "executionInfo": {
     "elapsed": 5259,
     "status": "ok",
     "timestamp": 1616597792607,
     "user": {
      "displayName": "Bharath Kumar",
      "photoUrl": "https://lh3.googleusercontent.com/a-/AOh14Ggb_xp-gXCTQIDjnT3fR_fAZQzItK1E5U9sunL_rw=s64",
      "userId": "04449719777745726086"
     },
     "user_tz": -330
    },
    "id": "nRSiyjs1vAB0",
    "outputId": "a6f4b246-1491-498a-a061-1163927bf8a2"
   },
   "outputs": [],
   "source": [
    "# let's see how data is distributed for every column\n",
    "plt.figure(figsize=(20,25), facecolor='white')\n",
    "plotnumber = 1\n",
    "\n",
    "for column in admin:\n",
    "    if plotnumber<=16 :\n",
    "        ax = plt.subplot(4,4,plotnumber)\n",
    "        sns.distplot(admin[column])\n",
    "        plt.xlabel(column,fontsize=20)\n",
    "        #plt.ylabel('Salary',fontsize=20)\n",
    "    plotnumber+=1\n",
    "plt.tight_layout()"
   ]
  },
  {
   "cell_type": "code",
   "execution_count": null,
   "metadata": {
    "executionInfo": {
     "elapsed": 3179,
     "status": "ok",
     "timestamp": 1616598264280,
     "user": {
      "displayName": "Bharath Kumar",
      "photoUrl": "https://lh3.googleusercontent.com/a-/AOh14Ggb_xp-gXCTQIDjnT3fR_fAZQzItK1E5U9sunL_rw=s64",
      "userId": "04449719777745726086"
     },
     "user_tz": -330
    },
    "id": "rkmepxyWwr-z"
   },
   "outputs": [],
   "source": [
    "y = admin['Chance of Admit']\n",
    "X =admin.drop(columns = ['Chance of Admit'])"
   ]
  },
  {
   "cell_type": "code",
   "execution_count": null,
   "metadata": {
    "colab": {
     "base_uri": "https://localhost:8080/",
     "height": 1000
    },
    "executionInfo": {
     "elapsed": 6440,
     "status": "ok",
     "timestamp": 1616598308125,
     "user": {
      "displayName": "Bharath Kumar",
      "photoUrl": "https://lh3.googleusercontent.com/a-/AOh14Ggb_xp-gXCTQIDjnT3fR_fAZQzItK1E5U9sunL_rw=s64",
      "userId": "04449719777745726086"
     },
     "user_tz": -330
    },
    "id": "fTw8CiLExARc",
    "outputId": "1bef1919-9ffd-4222-d70d-f694b7ed83c2"
   },
   "outputs": [],
   "source": [
    "plt.figure(figsize=(20,30), facecolor='white')\n",
    "plotnumber = 1\n",
    "\n",
    "for column in X:\n",
    "    if plotnumber<=15 :\n",
    "        ax = plt.subplot(5,3,plotnumber)\n",
    "        plt.scatter(X[column],y)\n",
    "        plt.xlabel(column,fontsize=20)\n",
    "        plt.ylabel('Chance of Admit',fontsize=20)\n",
    "    plotnumber+=1\n",
    "plt.tight_layout()"
   ]
  },
  {
   "cell_type": "code",
   "execution_count": null,
   "metadata": {
    "executionInfo": {
     "elapsed": 1470,
     "status": "ok",
     "timestamp": 1616598566980,
     "user": {
      "displayName": "Bharath Kumar",
      "photoUrl": "https://lh3.googleusercontent.com/a-/AOh14Ggb_xp-gXCTQIDjnT3fR_fAZQzItK1E5U9sunL_rw=s64",
      "userId": "04449719777745726086"
     },
     "user_tz": -330
    },
    "id": "J8TTDvtyyHL4"
   },
   "outputs": [],
   "source": [
    "scaler =StandardScaler()\n",
    "\n",
    "X_scaled = scaler.fit_transform(X)"
   ]
  },
  {
   "cell_type": "code",
   "execution_count": null,
   "metadata": {
    "executionInfo": {
     "elapsed": 1307,
     "status": "ok",
     "timestamp": 1616598691119,
     "user": {
      "displayName": "Bharath Kumar",
      "photoUrl": "https://lh3.googleusercontent.com/a-/AOh14Ggb_xp-gXCTQIDjnT3fR_fAZQzItK1E5U9sunL_rw=s64",
      "userId": "04449719777745726086"
     },
     "user_tz": -330
    },
    "id": "_Y8wWWJWylO5"
   },
   "outputs": [],
   "source": [
    "from statsmodels.stats.outliers_influence import variance_inflation_factor\n",
    "variables = X_scaled\n",
    "\n",
    "# we create a new data frame which will include all the VIFs\n",
    "# note that each variable has its own variance inflation factor as this measure is variable specific (not model specific)\n",
    "# we do not include categorical values for mulitcollinearity as they do not provide much information as numerical ones do\n",
    "vif = pd.DataFrame()\n",
    "\n",
    "# here we make use of the variance_inflation_factor, which will basically output the respective VIFs \n",
    "vif[\"VIF\"] = [variance_inflation_factor(variables, i) for i in range(variables.shape[1])]\n",
    "# Finally, I like to include names so it is easier to explore the result\n",
    "vif[\"Features\"] = X.columns"
   ]
  },
  {
   "cell_type": "code",
   "execution_count": null,
   "metadata": {
    "colab": {
     "base_uri": "https://localhost:8080/",
     "height": 269
    },
    "executionInfo": {
     "elapsed": 1618,
     "status": "ok",
     "timestamp": 1616598747131,
     "user": {
      "displayName": "Bharath Kumar",
      "photoUrl": "https://lh3.googleusercontent.com/a-/AOh14Ggb_xp-gXCTQIDjnT3fR_fAZQzItK1E5U9sunL_rw=s64",
      "userId": "04449719777745726086"
     },
     "user_tz": -330
    },
    "id": "MFFDDQXkyzf2",
    "outputId": "2c10d444-e072-4c25-af6f-51b6d1020c1f"
   },
   "outputs": [],
   "source": [
    "vif"
   ]
  },
  {
   "cell_type": "code",
   "execution_count": null,
   "metadata": {
    "executionInfo": {
     "elapsed": 1101,
     "status": "ok",
     "timestamp": 1616599043138,
     "user": {
      "displayName": "Bharath Kumar",
      "photoUrl": "https://lh3.googleusercontent.com/a-/AOh14Ggb_xp-gXCTQIDjnT3fR_fAZQzItK1E5U9sunL_rw=s64",
      "userId": "04449719777745726086"
     },
     "user_tz": -330
    },
    "id": "PPXjn0uZz7qt"
   },
   "outputs": [],
   "source": [
    "x_train,x_test,y_train,y_test = train_test_split(X_scaled,y,test_size = 0.25,random_state=355)"
   ]
  },
  {
   "cell_type": "code",
   "execution_count": null,
   "metadata": {
    "colab": {
     "base_uri": "https://localhost:8080/"
    },
    "executionInfo": {
     "elapsed": 1631,
     "status": "ok",
     "timestamp": 1616599096614,
     "user": {
      "displayName": "Bharath Kumar",
      "photoUrl": "https://lh3.googleusercontent.com/a-/AOh14Ggb_xp-gXCTQIDjnT3fR_fAZQzItK1E5U9sunL_rw=s64",
      "userId": "04449719777745726086"
     },
     "user_tz": -330
    },
    "id": "Y9VYQvXQ0HfS",
    "outputId": "ac4e1918-f018-44f0-e857-4c639f4b1631"
   },
   "outputs": [],
   "source": [
    "y_train.head()"
   ]
  },
  {
   "cell_type": "code",
   "execution_count": null,
   "metadata": {
    "colab": {
     "base_uri": "https://localhost:8080/"
    },
    "executionInfo": {
     "elapsed": 1560,
     "status": "ok",
     "timestamp": 1616599233548,
     "user": {
      "displayName": "Bharath Kumar",
      "photoUrl": "https://lh3.googleusercontent.com/a-/AOh14Ggb_xp-gXCTQIDjnT3fR_fAZQzItK1E5U9sunL_rw=s64",
      "userId": "04449719777745726086"
     },
     "user_tz": -330
    },
    "id": "DDytYEM-0pn_",
    "outputId": "999b2b3f-2d15-4e70-9a10-72e233b606e4"
   },
   "outputs": [],
   "source": [
    "# Fit the regression model\n",
    "regression = LinearRegression()\n",
    "\n",
    "regression.fit(x_train,y_train)"
   ]
  },
  {
   "cell_type": "code",
   "execution_count": null,
   "metadata": {
    "executionInfo": {
     "elapsed": 1352,
     "status": "ok",
     "timestamp": 1616599246660,
     "user": {
      "displayName": "Bharath Kumar",
      "photoUrl": "https://lh3.googleusercontent.com/a-/AOh14Ggb_xp-gXCTQIDjnT3fR_fAZQzItK1E5U9sunL_rw=s64",
      "userId": "04449719777745726086"
     },
     "user_tz": -330
    },
    "id": "0s4KVAJo0tSS"
   },
   "outputs": [],
   "source": [
    "# saving the model to the local file system\n",
    "filename = 'finalized_model.pickle'\n",
    "pickle.dump(regression, open(filename, 'wb'))"
   ]
  },
  {
   "cell_type": "code",
   "execution_count": null,
   "metadata": {
    "colab": {
     "base_uri": "https://localhost:8080/"
    },
    "executionInfo": {
     "elapsed": 1204,
     "status": "ok",
     "timestamp": 1616599257116,
     "user": {
      "displayName": "Bharath Kumar",
      "photoUrl": "https://lh3.googleusercontent.com/a-/AOh14Ggb_xp-gXCTQIDjnT3fR_fAZQzItK1E5U9sunL_rw=s64",
      "userId": "04449719777745726086"
     },
     "user_tz": -330
    },
    "id": "GS1Hrskp0qZ_",
    "outputId": "bebd4414-7f44-4b88-ad96-78eb04bafdb8"
   },
   "outputs": [],
   "source": [
    "# prediction using the saved model\n",
    "loaded_model = pickle.load(open(filename, 'rb'))\n",
    "a=loaded_model.predict(scaler.transform([[300,110,5,5,5,10,1]]))\n",
    "a"
   ]
  },
  {
   "cell_type": "code",
   "execution_count": null,
   "metadata": {
    "colab": {
     "base_uri": "https://localhost:8080/"
    },
    "executionInfo": {
     "elapsed": 1319,
     "status": "ok",
     "timestamp": 1616599269374,
     "user": {
      "displayName": "Bharath Kumar",
      "photoUrl": "https://lh3.googleusercontent.com/a-/AOh14Ggb_xp-gXCTQIDjnT3fR_fAZQzItK1E5U9sunL_rw=s64",
      "userId": "04449719777745726086"
     },
     "user_tz": -330
    },
    "id": "9ShWwEh40xwF",
    "outputId": "5cb4d4a2-84cc-4652-f030-9c779ac649c5"
   },
   "outputs": [],
   "source": [
    "# prediction on the train set\n",
    "regression.score(x_train,y_train)"
   ]
  },
  {
   "cell_type": "code",
   "execution_count": null,
   "metadata": {
    "executionInfo": {
     "elapsed": 1735,
     "status": "ok",
     "timestamp": 1616599289754,
     "user": {
      "displayName": "Bharath Kumar",
      "photoUrl": "https://lh3.googleusercontent.com/a-/AOh14Ggb_xp-gXCTQIDjnT3fR_fAZQzItK1E5U9sunL_rw=s64",
      "userId": "04449719777745726086"
     },
     "user_tz": -330
    },
    "id": "cR8Okms301iX"
   },
   "outputs": [],
   "source": [
    "# Let's create a function to create adjusted R-Squared\n",
    "def adj_r2(x,y):\n",
    "    r2 = regression.score(x,y)\n",
    "    n = x.shape[0]\n",
    "    p = x.shape[1]\n",
    "    adjusted_r2 = 1-(1-r2)*(n-1)/(n-p-1)\n",
    "    return adjusted_r2"
   ]
  },
  {
   "cell_type": "code",
   "execution_count": null,
   "metadata": {
    "colab": {
     "base_uri": "https://localhost:8080/"
    },
    "executionInfo": {
     "elapsed": 1438,
     "status": "ok",
     "timestamp": 1616599305532,
     "user": {
      "displayName": "Bharath Kumar",
      "photoUrl": "https://lh3.googleusercontent.com/a-/AOh14Ggb_xp-gXCTQIDjnT3fR_fAZQzItK1E5U9sunL_rw=s64",
      "userId": "04449719777745726086"
     },
     "user_tz": -330
    },
    "id": "L8zAvQew05jh",
    "outputId": "6f7cc5fc-5d33-4697-c12a-a661130c1f5c"
   },
   "outputs": [],
   "source": [
    "adj_r2(x_train,y_train)"
   ]
  },
  {
   "cell_type": "code",
   "execution_count": null,
   "metadata": {
    "colab": {
     "base_uri": "https://localhost:8080/"
    },
    "executionInfo": {
     "elapsed": 1302,
     "status": "ok",
     "timestamp": 1616599826381,
     "user": {
      "displayName": "Bharath Kumar",
      "photoUrl": "https://lh3.googleusercontent.com/a-/AOh14Ggb_xp-gXCTQIDjnT3fR_fAZQzItK1E5U9sunL_rw=s64",
      "userId": "04449719777745726086"
     },
     "user_tz": -330
    },
    "id": "r-SU16nx25_M",
    "outputId": "8f868973-05ee-430d-c6d6-303a0d5047de"
   },
   "outputs": [],
   "source": [
    "regression.score(x_test,y_test)"
   ]
  },
  {
   "cell_type": "code",
   "execution_count": null,
   "metadata": {
    "colab": {
     "base_uri": "https://localhost:8080/"
    },
    "executionInfo": {
     "elapsed": 1511,
     "status": "ok",
     "timestamp": 1616599915979,
     "user": {
      "displayName": "Bharath Kumar",
      "photoUrl": "https://lh3.googleusercontent.com/a-/AOh14Ggb_xp-gXCTQIDjnT3fR_fAZQzItK1E5U9sunL_rw=s64",
      "userId": "04449719777745726086"
     },
     "user_tz": -330
    },
    "id": "agpeMDi-3P80",
    "outputId": "8547dafb-f53a-4ffd-d3a1-31385310acd6"
   },
   "outputs": [],
   "source": [
    "# Lasso Regularization\n",
    "# LassoCV will return best alpha and coefficients after performing 10 cross validations\n",
    "lasscv = LassoCV(alphas = None,cv =10, max_iter = 100000, normalize = True)\n",
    "lasscv.fit(x_train, y_train)"
   ]
  },
  {
   "cell_type": "code",
   "execution_count": null,
   "metadata": {
    "colab": {
     "base_uri": "https://localhost:8080/"
    },
    "executionInfo": {
     "elapsed": 2033,
     "status": "ok",
     "timestamp": 1616599965590,
     "user": {
      "displayName": "Bharath Kumar",
      "photoUrl": "https://lh3.googleusercontent.com/a-/AOh14Ggb_xp-gXCTQIDjnT3fR_fAZQzItK1E5U9sunL_rw=s64",
      "userId": "04449719777745726086"
     },
     "user_tz": -330
    },
    "id": "QfgJZRJM3bHv",
    "outputId": "6ede018c-91d5-422c-8c90-40f8086357f1"
   },
   "outputs": [],
   "source": [
    "# best alpha parameter\n",
    "alpha = lasscv.alpha_\n",
    "alpha"
   ]
  },
  {
   "cell_type": "code",
   "execution_count": null,
   "metadata": {
    "colab": {
     "base_uri": "https://localhost:8080/"
    },
    "executionInfo": {
     "elapsed": 1368,
     "status": "ok",
     "timestamp": 1616599987983,
     "user": {
      "displayName": "Bharath Kumar",
      "photoUrl": "https://lh3.googleusercontent.com/a-/AOh14Ggb_xp-gXCTQIDjnT3fR_fAZQzItK1E5U9sunL_rw=s64",
      "userId": "04449719777745726086"
     },
     "user_tz": -330
    },
    "id": "nHdlBRH13iPQ",
    "outputId": "17755b33-938a-46e7-dab5-70da49711d29"
   },
   "outputs": [],
   "source": [
    "#now that we have best parameter, let's use Lasso regression and see how well our data has fitted before\n",
    "lasso_reg = Lasso(alpha)\n",
    "lasso_reg.fit(x_train, y_train)"
   ]
  },
  {
   "cell_type": "code",
   "execution_count": null,
   "metadata": {
    "colab": {
     "base_uri": "https://localhost:8080/"
    },
    "executionInfo": {
     "elapsed": 1456,
     "status": "ok",
     "timestamp": 1616600038887,
     "user": {
      "displayName": "Bharath Kumar",
      "photoUrl": "https://lh3.googleusercontent.com/a-/AOh14Ggb_xp-gXCTQIDjnT3fR_fAZQzItK1E5U9sunL_rw=s64",
      "userId": "04449719777745726086"
     },
     "user_tz": -330
    },
    "id": "JRoR8ARJ3uz_",
    "outputId": "9bdd43ab-3c3a-4afd-95c2-041fa2ea9f65"
   },
   "outputs": [],
   "source": [
    "lasso_reg.score(x_test, y_test)"
   ]
  },
  {
   "cell_type": "markdown",
   "metadata": {
    "id": "YVdFJGg_BuLD"
   },
   "source": [
    "Polynomial Regression"
   ]
  },
  {
   "cell_type": "code",
   "execution_count": null,
   "metadata": {
    "executionInfo": {
     "elapsed": 1184,
     "status": "ok",
     "timestamp": 1616602704693,
     "user": {
      "displayName": "Bharath Kumar",
      "photoUrl": "https://lh3.googleusercontent.com/a-/AOh14Ggb_xp-gXCTQIDjnT3fR_fAZQzItK1E5U9sunL_rw=s64",
      "userId": "04449719777745726086"
     },
     "user_tz": -330
    },
    "id": "KSsR82y3BsuN"
   },
   "outputs": [],
   "source": [
    "#Necessary Imports for importing the required modules to be used\n",
    "import pandas as pd\n",
    "import numpy  as np\n",
    "import matplotlib.pyplot as plt\n",
    "%matplotlib inline   "
   ]
  },
  {
   "cell_type": "code",
   "execution_count": null,
   "metadata": {
    "colab": {
     "base_uri": "https://localhost:8080/",
     "height": 206
    },
    "executionInfo": {
     "elapsed": 901,
     "status": "ok",
     "timestamp": 1616605524171,
     "user": {
      "displayName": "Bharath Kumar",
      "photoUrl": "https://lh3.googleusercontent.com/a-/AOh14Ggb_xp-gXCTQIDjnT3fR_fAZQzItK1E5U9sunL_rw=s64",
      "userId": "04449719777745726086"
     },
     "user_tz": -330
    },
    "id": "wVa878gOB7me",
    "outputId": "4c255a89-df8e-41b5-a5ae-76c00c16eb4e"
   },
   "outputs": [],
   "source": [
    "#importing the dataset\n",
    "dataset= pd.read_csv('./Datasets/Position_Salaries.csv') # the full namespace of the file can be provided if the file is not in the same directory as the .ipynb or.py file\n",
    "dataset.head()"
   ]
  },
  {
   "cell_type": "code",
   "execution_count": null,
   "metadata": {
    "colab": {
     "base_uri": "https://localhost:8080/"
    },
    "executionInfo": {
     "elapsed": 926,
     "status": "ok",
     "timestamp": 1616605778207,
     "user": {
      "displayName": "Bharath Kumar",
      "photoUrl": "https://lh3.googleusercontent.com/a-/AOh14Ggb_xp-gXCTQIDjnT3fR_fAZQzItK1E5U9sunL_rw=s64",
      "userId": "04449719777745726086"
     },
     "user_tz": -330
    },
    "id": "hopIeQ8tNnqD",
    "outputId": "ed843ce9-177d-4682-84d1-a16c7377a82d"
   },
   "outputs": [],
   "source": [
    "x=dataset.iloc[:,1:2].values\n",
    "x"
   ]
  },
  {
   "cell_type": "code",
   "execution_count": null,
   "metadata": {
    "colab": {
     "base_uri": "https://localhost:8080/"
    },
    "executionInfo": {
     "elapsed": 931,
     "status": "ok",
     "timestamp": 1616605817039,
     "user": {
      "displayName": "Bharath Kumar",
      "photoUrl": "https://lh3.googleusercontent.com/a-/AOh14Ggb_xp-gXCTQIDjnT3fR_fAZQzItK1E5U9sunL_rw=s64",
      "userId": "04449719777745726086"
     },
     "user_tz": -330
    },
    "id": "t6GKysIPNxyD",
    "outputId": "1c843e88-c459-446a-be93-97890e00dcb0"
   },
   "outputs": [],
   "source": [
    "y=dataset.iloc[:,2].values\n",
    "y"
   ]
  },
  {
   "cell_type": "code",
   "execution_count": null,
   "metadata": {
    "colab": {
     "base_uri": "https://localhost:8080/"
    },
    "executionInfo": {
     "elapsed": 1384,
     "status": "ok",
     "timestamp": 1616606211441,
     "user": {
      "displayName": "Bharath Kumar",
      "photoUrl": "https://lh3.googleusercontent.com/a-/AOh14Ggb_xp-gXCTQIDjnT3fR_fAZQzItK1E5U9sunL_rw=s64",
      "userId": "04449719777745726086"
     },
     "user_tz": -330
    },
    "id": "WmYcCIaAPRxN",
    "outputId": "eb46da88-2f51-48eb-84e6-a46a40098873"
   },
   "outputs": [],
   "source": [
    "# Fitting Linear Regression to the dataset\n",
    "from sklearn.linear_model import LinearRegression\n",
    "lin_reg = LinearRegression()\n",
    "lin_reg.fit(x, y)"
   ]
  },
  {
   "cell_type": "code",
   "execution_count": null,
   "metadata": {
    "colab": {
     "base_uri": "https://localhost:8080/",
     "height": 301
    },
    "executionInfo": {
     "elapsed": 962,
     "status": "ok",
     "timestamp": 1616606313441,
     "user": {
      "displayName": "Bharath Kumar",
      "photoUrl": "https://lh3.googleusercontent.com/a-/AOh14Ggb_xp-gXCTQIDjnT3fR_fAZQzItK1E5U9sunL_rw=s64",
      "userId": "04449719777745726086"
     },
     "user_tz": -330
    },
    "id": "SxytiHb-PqYN",
    "outputId": "cf272af1-6b54-409c-f967-524d2fb8b2cc"
   },
   "outputs": [],
   "source": [
    "plt.scatter(x, y, color = 'red')\n",
    "plt.plot(x, lin_reg.predict(x), color = 'blue')\n",
    "plt.title('Linear Regression')\n",
    "plt.xlabel('Position level')\n",
    "plt.ylabel('Salary')\n",
    "plt.show()"
   ]
  },
  {
   "cell_type": "code",
   "execution_count": null,
   "metadata": {
    "colab": {
     "base_uri": "https://localhost:8080/"
    },
    "executionInfo": {
     "elapsed": 894,
     "status": "ok",
     "timestamp": 1616606516774,
     "user": {
      "displayName": "Bharath Kumar",
      "photoUrl": "https://lh3.googleusercontent.com/a-/AOh14Ggb_xp-gXCTQIDjnT3fR_fAZQzItK1E5U9sunL_rw=s64",
      "userId": "04449719777745726086"
     },
     "user_tz": -330
    },
    "id": "Ha4qDExoQQ34",
    "outputId": "d01bad3c-fd54-416e-ebf9-d74bbf915209"
   },
   "outputs": [],
   "source": [
    "# Fitting Polynomial Regression to the dataset\n",
    "from sklearn.preprocessing import PolynomialFeatures\n",
    "#trying to create a 2 degree polynomial equation. \n",
    "#It simply squares the x as shown in the output\n",
    "poly_reg = PolynomialFeatures(degree = 2) \n",
    "X_poly = poly_reg.fit_transform(x)\n",
    "print(X_poly)\n",
    "poly_reg.fit(X_poly, y)"
   ]
  },
  {
   "cell_type": "code",
   "execution_count": null,
   "metadata": {
    "colab": {
     "base_uri": "https://localhost:8080/"
    },
    "executionInfo": {
     "elapsed": 1104,
     "status": "ok",
     "timestamp": 1616606584836,
     "user": {
      "displayName": "Bharath Kumar",
      "photoUrl": "https://lh3.googleusercontent.com/a-/AOh14Ggb_xp-gXCTQIDjnT3fR_fAZQzItK1E5U9sunL_rw=s64",
      "userId": "04449719777745726086"
     },
     "user_tz": -330
    },
    "id": "6GW3ZuySQtAk",
    "outputId": "9b32a8cf-3bd7-4dab-dab1-4345ad128d60"
   },
   "outputs": [],
   "source": [
    "# doing the actual polynomial Regression\n",
    "lin_reg_2 = LinearRegression()\n",
    "lin_reg_2.fit(X_poly, y)"
   ]
  },
  {
   "cell_type": "code",
   "execution_count": null,
   "metadata": {
    "colab": {
     "base_uri": "https://localhost:8080/",
     "height": 301
    },
    "executionInfo": {
     "elapsed": 1213,
     "status": "ok",
     "timestamp": 1616606874310,
     "user": {
      "displayName": "Bharath Kumar",
      "photoUrl": "https://lh3.googleusercontent.com/a-/AOh14Ggb_xp-gXCTQIDjnT3fR_fAZQzItK1E5U9sunL_rw=s64",
      "userId": "04449719777745726086"
     },
     "user_tz": -330
    },
    "id": "X5e4g0SjRybF",
    "outputId": "7a5772cc-7b78-4314-c338-920538b7e49e"
   },
   "outputs": [],
   "source": [
    "# Visualising the Polynomial Regression results\n",
    "plt.scatter(x, y, color = 'red')\n",
    "plt.plot(x, lin_reg_2.predict(poly_reg.fit_transform(x)), color = 'blue')\n",
    "plt.title('Polynomial Regression')\n",
    "plt.xlabel('Position level')\n",
    "plt.ylabel('Salary')\n",
    "plt.show()"
   ]
  },
  {
   "cell_type": "code",
   "execution_count": null,
   "metadata": {
    "colab": {
     "base_uri": "https://localhost:8080/"
    },
    "executionInfo": {
     "elapsed": 877,
     "status": "ok",
     "timestamp": 1616607079297,
     "user": {
      "displayName": "Bharath Kumar",
      "photoUrl": "https://lh3.googleusercontent.com/a-/AOh14Ggb_xp-gXCTQIDjnT3fR_fAZQzItK1E5U9sunL_rw=s64",
      "userId": "04449719777745726086"
     },
     "user_tz": -330
    },
    "id": "1XGXLGpUSlZt",
    "outputId": "c2f3079c-9319-41ba-bb87-38569ab1482e"
   },
   "outputs": [],
   "source": [
    "# Fitting Polynomial Regression to the dataset\n",
    "poly_reg1 = PolynomialFeatures(degree = 4)\n",
    "X_poly1 = poly_reg1.fit_transform(x)\n",
    "poly_reg1.fit(X_poly, y)\n",
    "lin_reg_3 = LinearRegression()\n",
    "lin_reg_3.fit(X_poly1, y)"
   ]
  },
  {
   "cell_type": "code",
   "execution_count": null,
   "metadata": {
    "colab": {
     "base_uri": "https://localhost:8080/",
     "height": 301
    },
    "executionInfo": {
     "elapsed": 1523,
     "status": "ok",
     "timestamp": 1616607123171,
     "user": {
      "displayName": "Bharath Kumar",
      "photoUrl": "https://lh3.googleusercontent.com/a-/AOh14Ggb_xp-gXCTQIDjnT3fR_fAZQzItK1E5U9sunL_rw=s64",
      "userId": "04449719777745726086"
     },
     "user_tz": -330
    },
    "id": "dMt5U_SCSwPA",
    "outputId": "98ed4df8-7a6b-4db4-8fed-106e932abfa0"
   },
   "outputs": [],
   "source": [
    "# Visualising the Polynomial Regression results\n",
    "plt.scatter(x, y, color = 'red')\n",
    "plt.plot(x, lin_reg_3.predict(poly_reg1.fit_transform(x)), color = 'blue')\n",
    "plt.title('Polynomial Regression of Degree 4')\n",
    "plt.xlabel('Position level')\n",
    "plt.ylabel('Salary')\n",
    "plt.show()"
   ]
  }
 ],
 "metadata": {
  "colab": {
   "authorship_tag": "ABX9TyPsziDgy3QxNJ/AnCQkozJM",
   "collapsed_sections": [],
   "mount_file_id": "1B2gcOEcoS96avpbsIluccwdylReW8g1A",
   "name": "Lab 7.ipynb",
   "provenance": []
  },
  "kernelspec": {
   "display_name": "Python 3",
   "language": "python",
   "name": "python3"
  },
  "language_info": {
   "codemirror_mode": {
    "name": "ipython",
    "version": 3
   },
   "file_extension": ".py",
   "mimetype": "text/x-python",
   "name": "python",
   "nbconvert_exporter": "python",
   "pygments_lexer": "ipython3",
   "version": "3.8.6"
  }
 },
 "nbformat": 4,
 "nbformat_minor": 1
}
