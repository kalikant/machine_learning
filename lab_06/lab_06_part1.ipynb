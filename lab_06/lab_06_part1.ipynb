{
 "cells": [
  {
   "cell_type": "code",
   "execution_count": null,
   "metadata": {
    "colab": {
     "base_uri": "https://localhost:8080/"
    },
    "executionInfo": {
     "elapsed": 3784,
     "status": "ok",
     "timestamp": 1615703442943,
     "user": {
      "displayName": "Bharath Kumar",
      "photoUrl": "https://lh3.googleusercontent.com/a-/AOh14Ggb_xp-gXCTQIDjnT3fR_fAZQzItK1E5U9sunL_rw=s64",
      "userId": "04449719777745726086"
     },
     "user_tz": -330
    },
    "id": "eoq7WAr56dfx",
    "outputId": "e94c0f9b-8f7b-4011-b10c-1868596338df"
   },
   "outputs": [],
   "source": [
    "# necessary Imports\n",
    "import numpy as np\n",
    "import pandas as pd\n",
    "import seaborn as sns\n",
    "from scipy import stats\n",
    "import matplotlib.pyplot as plt\n",
    "\n",
    "import statsmodels.api as sm\n",
    "from statsmodels.stats import diagnostic as diag\n",
    "from statsmodels.stats.outliers_influence import variance_inflation_factor\n",
    "\n",
    "from sklearn.linear_model import LinearRegression\n",
    "from sklearn.model_selection import train_test_split\n",
    "from sklearn.metrics import mean_squared_error, r2_score, mean_absolute_error\n",
    "import warnings\n",
    "warnings.simplefilter(action='ignore', category=Warning)\n",
    "\n",
    "%matplotlib inline"
   ]
  },
  {
   "cell_type": "code",
   "execution_count": null,
   "metadata": {
    "colab": {
     "base_uri": "https://localhost:8080/",
     "height": 481
    },
    "executionInfo": {
     "elapsed": 1079,
     "status": "ok",
     "timestamp": 1615703950432,
     "user": {
      "displayName": "Bharath Kumar",
      "photoUrl": "https://lh3.googleusercontent.com/a-/AOh14Ggb_xp-gXCTQIDjnT3fR_fAZQzItK1E5U9sunL_rw=s64",
      "userId": "04449719777745726086"
     },
     "user_tz": -330
    },
    "id": "zVVGXAB6bdzI",
    "outputId": "c5467364-6c49-47cc-e8a0-72a2229c0c29"
   },
   "outputs": [],
   "source": [
    "df = pd.read_excel('./Datasets/korea_data.xlsx')\n",
    "df.head(10)"
   ]
  },
  {
   "cell_type": "code",
   "execution_count": null,
   "metadata": {
    "colab": {
     "base_uri": "https://localhost:8080/",
     "height": 481
    },
    "executionInfo": {
     "elapsed": 907,
     "status": "ok",
     "timestamp": 1615703969791,
     "user": {
      "displayName": "Bharath Kumar",
      "photoUrl": "https://lh3.googleusercontent.com/a-/AOh14Ggb_xp-gXCTQIDjnT3fR_fAZQzItK1E5U9sunL_rw=s64",
      "userId": "04449719777745726086"
     },
     "user_tz": -330
    },
    "id": "2C-eFFlMdesn",
    "outputId": "6d460fa0-20cb-4e00-9128-431c10c6e4a6"
   },
   "outputs": [],
   "source": [
    "df.tail(10)"
   ]
  },
  {
   "cell_type": "code",
   "execution_count": null,
   "metadata": {
    "colab": {
     "base_uri": "https://localhost:8080/",
     "height": 512
    },
    "executionInfo": {
     "elapsed": 984,
     "status": "ok",
     "timestamp": 1615704857340,
     "user": {
      "displayName": "Bharath Kumar",
      "photoUrl": "https://lh3.googleusercontent.com/a-/AOh14Ggb_xp-gXCTQIDjnT3fR_fAZQzItK1E5U9sunL_rw=s64",
      "userId": "04449719777745726086"
     },
     "user_tz": -330
    },
    "id": "SMskECH3fdG9",
    "outputId": "97682d57-ffeb-41eb-9736-b4ee1355f5a6"
   },
   "outputs": [],
   "source": [
    "# replace the '..' with nan\n",
    "df = df.replace('..','nan')\n",
    "\n",
    "# set the index to the year column\n",
    "df = df.set_index('Year')\n",
    "\n",
    "# set the data type and select rows up to 2016\n",
    "df = df.astype(float)\n",
    "df = df.loc['1969':'2016']\n",
    "\n",
    "column_names = {'Unemployment, total (% of total labor force) (national estimate)':'unemployment',\n",
    "                'GDP growth (annual %)': 'gdp_growth',\n",
    "                'Gross capital formation (% of GDP)':'gross_capital_formation',\n",
    "                'Population growth (annual %)':'pop_growth', \n",
    "                'Birth rate, crude (per 1,000 people)':'birth_rate',\n",
    "                'Broad money growth (annual %)':'broad_money_growth',                \n",
    "                'Final consumption expenditure (% of GDP)':'final_consum_gdp',\n",
    "                'Final consumption expenditure (annual % growth)':'final_consum_growth',\n",
    "                'General government final consumption expenditure (annual % growth)':'gov_final_consum_growth',\n",
    "                'Gross capital formation (annual % growth)':'gross_cap_form_growth',\n",
    "                'Households and NPISHs Final consumption expenditure (annual % growth)':'hh_consum_growth'}\n",
    "\n",
    "# rename columns\n",
    "df = df.rename(columns = column_names)\n",
    "\n",
    "# check for nulls\n",
    "display('-'*100)\n",
    "display(df.isnull().any())\n",
    "\n",
    "# display the first five rows\n",
    "display('-'*100)\n",
    "display(df.head())"
   ]
  },
  {
   "cell_type": "code",
   "execution_count": null,
   "metadata": {
    "colab": {
     "base_uri": "https://localhost:8080/",
     "height": 767
    },
    "executionInfo": {
     "elapsed": 1319,
     "status": "ok",
     "timestamp": 1615705990395,
     "user": {
      "displayName": "Bharath Kumar",
      "photoUrl": "https://lh3.googleusercontent.com/a-/AOh14Ggb_xp-gXCTQIDjnT3fR_fAZQzItK1E5U9sunL_rw=s64",
      "userId": "04449719777745726086"
     },
     "user_tz": -330
    },
    "id": "kwazi0Bhk7ud",
    "outputId": "cde1bbf8-785e-41cb-b752-b0be6a73a80e"
   },
   "outputs": [],
   "source": [
    "#calculate the correlation matrix\n",
    "corr = df.corr()\n",
    "\n",
    "#display the correlation matrix\n",
    "display(corr)\n",
    "\n",
    "# plot the correlation heatmap\n",
    "sns.heatmap(corr, xticklabels=corr.columns, yticklabels=corr.columns, cmap='RdBu')"
   ]
  },
  {
   "cell_type": "code",
   "execution_count": null,
   "metadata": {
    "colab": {
     "base_uri": "https://localhost:8080/",
     "height": 445
    },
    "executionInfo": {
     "elapsed": 1055,
     "status": "ok",
     "timestamp": 1615706619783,
     "user": {
      "displayName": "Bharath Kumar",
      "photoUrl": "https://lh3.googleusercontent.com/a-/AOh14Ggb_xp-gXCTQIDjnT3fR_fAZQzItK1E5U9sunL_rw=s64",
      "userId": "04449719777745726086"
     },
     "user_tz": -330
    },
    "id": "sFvF4jyClbNx",
    "outputId": "aeca9511-5aad-4966-a78b-41c693f3f8ee"
   },
   "outputs": [],
   "source": [
    "# define two data frames one before the drop and one after the drop\n",
    "df_before = df\n",
    "df_after = df.drop(['gdp_growth','birth_rate', 'final_consum_growth','gross_capital_formation'], axis = 1)\n",
    "\n",
    "# the VFI does expect a constant term in the data, so we need to add one using the add_constant method\n",
    "X1 = sm.tools.add_constant(df_before)\n",
    "X2 = sm.tools.add_constant(df_after)\n",
    "\n",
    "# create the series for both\n",
    "series_before = pd.Series([variance_inflation_factor(X1.values, i) for i in range(X1.shape[1])], index=X1.columns)\n",
    "series_after = pd.Series([variance_inflation_factor(X2.values, i) for i in range(X2.shape[1])], index=X2.columns)\n",
    "\n",
    "# display the series\n",
    "print('DATA BEFORE')\n",
    "print('-'*100)\n",
    "display(series_before)\n",
    "\n",
    "print('DATA AFTER')\n",
    "print('-'*100)\n",
    "display(series_after)"
   ]
  },
  {
   "cell_type": "code",
   "execution_count": null,
   "metadata": {
    "colab": {
     "base_uri": "https://localhost:8080/",
     "height": 379
    },
    "executionInfo": {
     "elapsed": 1805,
     "status": "ok",
     "timestamp": 1615707060159,
     "user": {
      "displayName": "Bharath Kumar",
      "photoUrl": "https://lh3.googleusercontent.com/a-/AOh14Ggb_xp-gXCTQIDjnT3fR_fAZQzItK1E5U9sunL_rw=s64",
      "userId": "04449719777745726086"
     },
     "user_tz": -330
    },
    "id": "iDnT6TaDpOq1",
    "outputId": "44bab9e2-a563-4a98-a544-5dd1302147ef"
   },
   "outputs": [],
   "source": [
    "# get the summary\n",
    "desc_df = df.describe()\n",
    "\n",
    "# add the standard deviation metric\n",
    "desc_df.loc['+3_std'] = desc_df.loc['mean'] + (desc_df.loc['std'] * 3)\n",
    "desc_df.loc['-3_std'] = desc_df.loc['mean'] - (desc_df.loc['std'] * 3)\n",
    "\n",
    "# display it\n",
    "desc_df"
   ]
  },
  {
   "cell_type": "code",
   "execution_count": null,
   "metadata": {
    "colab": {
     "base_uri": "https://localhost:8080/"
    },
    "executionInfo": {
     "elapsed": 954,
     "status": "ok",
     "timestamp": 1615707593109,
     "user": {
      "displayName": "Bharath Kumar",
      "photoUrl": "https://lh3.googleusercontent.com/a-/AOh14Ggb_xp-gXCTQIDjnT3fR_fAZQzItK1E5U9sunL_rw=s64",
      "userId": "04449719777745726086"
     },
     "user_tz": -330
    },
    "id": "evkhS3brnhuw",
    "outputId": "5dbf9b29-bf4f-4183-b384-56d7f5431ff2"
   },
   "outputs": [],
   "source": [
    "# filter the data frame to remove the values exceeding 3 standard deviations\n",
    "remove_df = df[(np.abs(stats.zscore(df)) < 3).all(axis=1)]\n",
    "\n",
    "# what rows were removed\n",
    "df.index.difference(remove_df.index)"
   ]
  },
  {
   "cell_type": "code",
   "execution_count": null,
   "metadata": {
    "colab": {
     "base_uri": "https://localhost:8080/"
    },
    "executionInfo": {
     "elapsed": 944,
     "status": "ok",
     "timestamp": 1615707955898,
     "user": {
      "displayName": "Bharath Kumar",
      "photoUrl": "https://lh3.googleusercontent.com/a-/AOh14Ggb_xp-gXCTQIDjnT3fR_fAZQzItK1E5U9sunL_rw=s64",
      "userId": "04449719777745726086"
     },
     "user_tz": -330
    },
    "id": "tfghwaT7sgnk",
    "outputId": "44313f4e-587d-4965-8953-9be264bd7184"
   },
   "outputs": [],
   "source": [
    "\n",
    "# define our input variable (X) & output variable\n",
    "df_after = df.drop(['birth_rate', 'final_consum_growth','gross_capital_formation'], axis = 1)\n",
    "\n",
    "X = df_after.drop('gdp_growth', axis = 1)\n",
    "Y = df_after[['gdp_growth']]\n",
    "\n",
    "# Split X and y into X_\n",
    "X_train, X_test, y_train, y_test = train_test_split(X, Y, test_size=0.20, random_state=1)\n",
    "\n",
    "# create a Linear Regression model object\n",
    "regression_model = LinearRegression()\n",
    "\n",
    "# pass through the X_train & y_train data set\n",
    "regression_model.fit(X_train, y_train)"
   ]
  },
  {
   "cell_type": "code",
   "execution_count": null,
   "metadata": {
    "colab": {
     "base_uri": "https://localhost:8080/"
    },
    "executionInfo": {
     "elapsed": 898,
     "status": "ok",
     "timestamp": 1615708180145,
     "user": {
      "displayName": "Bharath Kumar",
      "photoUrl": "https://lh3.googleusercontent.com/a-/AOh14Ggb_xp-gXCTQIDjnT3fR_fAZQzItK1E5U9sunL_rw=s64",
      "userId": "04449719777745726086"
     },
     "user_tz": -330
    },
    "id": "zTLsa1XuteO7",
    "outputId": "46fd9514-22da-4c90-df61-58535c874f27"
   },
   "outputs": [],
   "source": [
    "# let's grab the coefficient of our model and the intercept\n",
    "intercept = regression_model.intercept_[0]\n",
    "coefficent = regression_model.coef_[0][0]\n",
    "\n",
    "print(\"The intercept for our model is {:.4}\".format(intercept))\n",
    "print('-'*100)\n",
    "\n",
    "# loop through the dictionary and print the data\n",
    "for coef in zip(X.columns, regression_model.coef_[0]):\n",
    "    print(\"The Coefficient for {} is {:.2}\".format(coef[0],coef[1]))"
   ]
  },
  {
   "cell_type": "code",
   "execution_count": null,
   "metadata": {
    "colab": {
     "base_uri": "https://localhost:8080/"
    },
    "executionInfo": {
     "elapsed": 917,
     "status": "ok",
     "timestamp": 1615708383752,
     "user": {
      "displayName": "Bharath Kumar",
      "photoUrl": "https://lh3.googleusercontent.com/a-/AOh14Ggb_xp-gXCTQIDjnT3fR_fAZQzItK1E5U9sunL_rw=s64",
      "userId": "04449719777745726086"
     },
     "user_tz": -330
    },
    "id": "aa7AzqW9uUm5",
    "outputId": "53f523d8-c5f9-4d98-b4df-4dc68fba1d6b"
   },
   "outputs": [],
   "source": [
    "# Get multiple predictions\n",
    "y_predict = regression_model.predict(X_test)\n",
    "\n",
    "# Show the first 5 predictions\n",
    "y_predict[:5]"
   ]
  },
  {
   "cell_type": "code",
   "execution_count": null,
   "metadata": {
    "executionInfo": {
     "elapsed": 930,
     "status": "ok",
     "timestamp": 1615708693141,
     "user": {
      "displayName": "Bharath Kumar",
      "photoUrl": "https://lh3.googleusercontent.com/a-/AOh14Ggb_xp-gXCTQIDjnT3fR_fAZQzItK1E5U9sunL_rw=s64",
      "userId": "04449719777745726086"
     },
     "user_tz": -330
    },
    "id": "G-mAuITTvcgj"
   },
   "outputs": [],
   "source": [
    "# define our intput\n",
    "X2 = sm.add_constant(X)\n",
    "\n",
    "# create a OLS model\n",
    "model = sm.OLS(Y, X2)\n",
    "\n",
    "# fit the data\n",
    "est = model.fit()"
   ]
  },
  {
   "cell_type": "code",
   "execution_count": null,
   "metadata": {
    "colab": {
     "base_uri": "https://localhost:8080/"
    },
    "executionInfo": {
     "elapsed": 951,
     "status": "ok",
     "timestamp": 1615709013355,
     "user": {
      "displayName": "Bharath Kumar",
      "photoUrl": "https://lh3.googleusercontent.com/a-/AOh14Ggb_xp-gXCTQIDjnT3fR_fAZQzItK1E5U9sunL_rw=s64",
      "userId": "04449719777745726086"
     },
     "user_tz": -330
    },
    "id": "SmfmtbPuwlGs",
    "outputId": "cc5f319c-13ae-4a06-c6de-946b8954cbec"
   },
   "outputs": [],
   "source": [
    "# Run the White's test\n",
    "_, pval, __, f_pval = diag.het_white(est.resid, est.model.exog)\n",
    "print(pval, f_pval)\n",
    "print('-'*100)\n",
    "\n",
    "# print the results of the test\n",
    "if pval > 0.05:\n",
    "    print(\"For the White's Test\")\n",
    "    print(\"The p-value was {:.4}\".format(pval))\n",
    "    print(\"We fail to reject the null hypthoesis, so there is no heterosecdasticity. \\n\")\n",
    "    \n",
    "else:\n",
    "    print(\"For the White's Test\")\n",
    "    print(\"The p-value was {:.4}\".format(pval))\n",
    "    print(\"We reject the null hypthoesis, so there is heterosecdasticity. \\n\")\n",
    "\n",
    "# Run the Breusch-Pagan test\n",
    "_, pval, __, f_pval = diag.het_breuschpagan(est.resid, est.model.exog)\n",
    "print(pval, f_pval)\n",
    "print('-'*100)\n",
    "\n",
    "# print the results of the test\n",
    "if pval > 0.05:\n",
    "    print(\"For the Breusch-Pagan's Test\")\n",
    "    print(\"The p-value was {:.4}\".format(pval))\n",
    "    print(\"We fail to reject the null hypthoesis, so there is no heterosecdasticity.\")\n",
    "\n",
    "else:\n",
    "    print(\"For the Breusch-Pagan's Test\")\n",
    "    print(\"The p-value was {:.4}\".format(pval))\n",
    "    print(\"We reject the null hypthoesis, so there is heterosecdasticity.\")"
   ]
  },
  {
   "cell_type": "code",
   "execution_count": null,
   "metadata": {
    "colab": {
     "base_uri": "https://localhost:8080/",
     "height": 386
    },
    "executionInfo": {
     "elapsed": 945,
     "status": "ok",
     "timestamp": 1615709408135,
     "user": {
      "displayName": "Bharath Kumar",
      "photoUrl": "https://lh3.googleusercontent.com/a-/AOh14Ggb_xp-gXCTQIDjnT3fR_fAZQzItK1E5U9sunL_rw=s64",
      "userId": "04449719777745726086"
     },
     "user_tz": -330
    },
    "id": "3EEKZEIUxLB4",
    "outputId": "3fdd7cf3-05c1-4cd8-84b9-eb3cda071659"
   },
   "outputs": [],
   "source": [
    "# test for autocorrelation\n",
    "from statsmodels.stats.stattools import durbin_watson\n",
    "\n",
    "# calculate the lag, optional\n",
    "lag = min(10, (len(X)//5))\n",
    "print('The number of lags will be {}'.format(lag))\n",
    "print('-'*100)\n",
    "\n",
    "# run the Ljung-Box test for no autocorrelation of residuals\n",
    "# test_results = diag.acorr_breusch_godfrey(est, nlags = lag, store = True)\n",
    "test_results = diag.acorr_ljungbox(est.resid, lags = lag)\n",
    "\n",
    "# grab the p-values and the test statistics\n",
    "ibvalue, p_val = test_results\n",
    "\n",
    "# print the results of the test\n",
    "if min(p_val) > 0.05:\n",
    "    print(\"The lowest p-value found was {:.4}\".format(min(p_val)))\n",
    "    print(\"We fail to reject the null hypthoesis, so there is no autocorrelation.\")\n",
    "    print('-'*100)\n",
    "else:\n",
    "    print(\"The lowest p-value found was {:.4}\".format(min(p_val)))\n",
    "    print(\"We reject the null hypthoesis, so there is autocorrelation.\")\n",
    "    print('-'*100)\n",
    "\n",
    "# plot autocorrelation\n",
    "sm.graphics.tsa.plot_acf(est.resid)\n",
    "plt.show()"
   ]
  },
  {
   "cell_type": "code",
   "execution_count": null,
   "metadata": {
    "colab": {
     "base_uri": "https://localhost:8080/",
     "height": 296
    },
    "executionInfo": {
     "elapsed": 1056,
     "status": "ok",
     "timestamp": 1615709774640,
     "user": {
      "displayName": "Bharath Kumar",
      "photoUrl": "https://lh3.googleusercontent.com/a-/AOh14Ggb_xp-gXCTQIDjnT3fR_fAZQzItK1E5U9sunL_rw=s64",
      "userId": "04449719777745726086"
     },
     "user_tz": -330
    },
    "id": "aBYEz_LCzohv",
    "outputId": "f647f94b-f45e-4b48-a22c-d33a2e191957"
   },
   "outputs": [],
   "source": [
    "import pylab\n",
    "\n",
    "# check for the normality of the residuals\n",
    "sm.qqplot(est.resid, line='s')\n",
    "pylab.show()\n",
    "\n",
    "# also check that the mean of the residuals is approx. 0.\n",
    "mean_residuals = sum(est.resid)/ len(est.resid)\n",
    "print(\"The mean of the residuals is {:.4}\".format(mean_residuals))\n"
   ]
  },
  {
   "cell_type": "code",
   "execution_count": null,
   "metadata": {
    "colab": {
     "base_uri": "https://localhost:8080/"
    },
    "executionInfo": {
     "elapsed": 921,
     "status": "ok",
     "timestamp": 1615709963928,
     "user": {
      "displayName": "Bharath Kumar",
      "photoUrl": "https://lh3.googleusercontent.com/a-/AOh14Ggb_xp-gXCTQIDjnT3fR_fAZQzItK1E5U9sunL_rw=s64",
      "userId": "04449719777745726086"
     },
     "user_tz": -330
    },
    "id": "8v8PwqR80WVW",
    "outputId": "ead01949-a79b-48e2-fc74-a7bcd7a1fc58"
   },
   "outputs": [],
   "source": [
    "import math\n",
    "# calculate the mean squared error\n",
    "model_mse = mean_squared_error(y_test, y_predict)\n",
    "\n",
    "# calculate the mean absolute error\n",
    "model_mae = mean_absolute_error(y_test, y_predict)\n",
    "\n",
    "# calulcate the root mean squared error\n",
    "model_rmse =  math.sqrt(model_mse)\n",
    "\n",
    "# display the output\n",
    "print(\"MSE {:.3}\".format(model_mse))\n",
    "print(\"MAE {:.3}\".format(model_mae))\n",
    "print(\"RMSE {:.3}\".format(model_rmse))"
   ]
  },
  {
   "cell_type": "code",
   "execution_count": null,
   "metadata": {
    "colab": {
     "base_uri": "https://localhost:8080/"
    },
    "executionInfo": {
     "elapsed": 954,
     "status": "ok",
     "timestamp": 1615710162352,
     "user": {
      "displayName": "Bharath Kumar",
      "photoUrl": "https://lh3.googleusercontent.com/a-/AOh14Ggb_xp-gXCTQIDjnT3fR_fAZQzItK1E5U9sunL_rw=s64",
      "userId": "04449719777745726086"
     },
     "user_tz": -330
    },
    "id": "Wb0iHlN_1H1G",
    "outputId": "d3470391-ed01-4755-ac5c-207dab6a247f"
   },
   "outputs": [],
   "source": [
    "model_r2 = r2_score(y_test, y_predict)\n",
    "print(\"R2: {:.2}\".format(model_r2))"
   ]
  },
  {
   "cell_type": "code",
   "execution_count": null,
   "metadata": {
    "colab": {
     "base_uri": "https://localhost:8080/",
     "height": 266
    },
    "executionInfo": {
     "elapsed": 925,
     "status": "ok",
     "timestamp": 1615710388908,
     "user": {
      "displayName": "Bharath Kumar",
      "photoUrl": "https://lh3.googleusercontent.com/a-/AOh14Ggb_xp-gXCTQIDjnT3fR_fAZQzItK1E5U9sunL_rw=s64",
      "userId": "04449719777745726086"
     },
     "user_tz": -330
    },
    "id": "Hc16xEo91-ZF",
    "outputId": "c2935652-1d98-4def-868d-dc231d322cc2"
   },
   "outputs": [],
   "source": [
    "# make some confidence intervals, 95% by default\n",
    "est.conf_int()"
   ]
  },
  {
   "cell_type": "code",
   "execution_count": null,
   "metadata": {
    "colab": {
     "base_uri": "https://localhost:8080/"
    },
    "executionInfo": {
     "elapsed": 1762,
     "status": "ok",
     "timestamp": 1615710730091,
     "user": {
      "displayName": "Bharath Kumar",
      "photoUrl": "https://lh3.googleusercontent.com/a-/AOh14Ggb_xp-gXCTQIDjnT3fR_fAZQzItK1E5U9sunL_rw=s64",
      "userId": "04449719777745726086"
     },
     "user_tz": -330
    },
    "id": "7uDP5tbj2H4w",
    "outputId": "d8d59449-d451-481d-d9e1-dba4153f4249"
   },
   "outputs": [],
   "source": [
    "# estimate the p-values\n",
    "est.pvalues"
   ]
  },
  {
   "cell_type": "code",
   "execution_count": null,
   "metadata": {
    "colab": {
     "base_uri": "https://localhost:8080/"
    },
    "executionInfo": {
     "elapsed": 947,
     "status": "ok",
     "timestamp": 1615711103338,
     "user": {
      "displayName": "Bharath Kumar",
      "photoUrl": "https://lh3.googleusercontent.com/a-/AOh14Ggb_xp-gXCTQIDjnT3fR_fAZQzItK1E5U9sunL_rw=s64",
      "userId": "04449719777745726086"
     },
     "user_tz": -330
    },
    "id": "1WlL8jEi4tpI",
    "outputId": "5e0ef200-80ad-40f0-9c15-e376184432c3"
   },
   "outputs": [],
   "source": [
    "# print out a summary\n",
    "print(est.summary())"
   ]
  },
  {
   "cell_type": "code",
   "execution_count": null,
   "metadata": {
    "colab": {
     "base_uri": "https://localhost:8080/"
    },
    "executionInfo": {
     "elapsed": 921,
     "status": "ok",
     "timestamp": 1615711528320,
     "user": {
      "displayName": "Bharath Kumar",
      "photoUrl": "https://lh3.googleusercontent.com/a-/AOh14Ggb_xp-gXCTQIDjnT3fR_fAZQzItK1E5U9sunL_rw=s64",
      "userId": "04449719777745726086"
     },
     "user_tz": -330
    },
    "id": "i2uj6D9M5R93",
    "outputId": "a2a45af5-91e3-47a5-8bd2-3a3384dc8772"
   },
   "outputs": [],
   "source": [
    "# define our input variable (X) & output variable\n",
    "df_after = df.drop(['birth_rate', 'final_consum_growth','gross_capital_formation','broad_money_growth',\n",
    "                              'unemployment'], axis = 1)\n",
    "\n",
    "X = df_after.drop('gdp_growth', axis = 1)\n",
    "Y = df_after[['gdp_growth']]\n",
    "\n",
    "# Split X and y into X_\n",
    "X_train, X_test, y_train, y_test = train_test_split(X, Y, test_size=0.20, random_state=1)\n",
    "\n",
    "# create a Linear Regression model object\n",
    "regression_model = LinearRegression()\n",
    "\n",
    "# pass through the X_train & y_train data set\n",
    "regression_model.fit(X_train, y_train)"
   ]
  },
  {
   "cell_type": "code",
   "execution_count": null,
   "metadata": {
    "colab": {
     "base_uri": "https://localhost:8080/"
    },
    "executionInfo": {
     "elapsed": 915,
     "status": "ok",
     "timestamp": 1615711545516,
     "user": {
      "displayName": "Bharath Kumar",
      "photoUrl": "https://lh3.googleusercontent.com/a-/AOh14Ggb_xp-gXCTQIDjnT3fR_fAZQzItK1E5U9sunL_rw=s64",
      "userId": "04449719777745726086"
     },
     "user_tz": -330
    },
    "id": "ZLb0SLRK6ZJ5",
    "outputId": "cb191727-0885-4e17-f0a0-f1ad4c9b3773"
   },
   "outputs": [],
   "source": [
    "\n",
    "# define our intput\n",
    "X2 = sm.add_constant(X)\n",
    "\n",
    "# create a OLS model\n",
    "model = sm.OLS(Y, X2)\n",
    "\n",
    "# fit the data\n",
    "est = model.fit()\n",
    "\n",
    "print(est.summary())"
   ]
  },
  {
   "cell_type": "code",
   "execution_count": null,
   "metadata": {
    "colab": {
     "base_uri": "https://localhost:8080/"
    },
    "executionInfo": {
     "elapsed": 936,
     "status": "ok",
     "timestamp": 1615712210213,
     "user": {
      "displayName": "Bharath Kumar",
      "photoUrl": "https://lh3.googleusercontent.com/a-/AOh14Ggb_xp-gXCTQIDjnT3fR_fAZQzItK1E5U9sunL_rw=s64",
      "userId": "04449719777745726086"
     },
     "user_tz": -330
    },
    "id": "B9jj46Xc87hP",
    "outputId": "dddda71f-0582-4148-9868-b2158a484575"
   },
   "outputs": [],
   "source": [
    "import pickle\n",
    "\n",
    "# pickle the model\n",
    "with open('my_mulitlinear_regression.sav','wb') as f:\n",
    "     pickle.dump(regression_model, f)\n",
    "\n",
    "# load it back in\n",
    "with open('my_mulitlinear_regression.sav', 'rb') as pickle_file:\n",
    "     regression_model_2 = pickle.load(pickle_file)\n",
    "\n",
    "# make a new prediction\n",
    "regression_model_2.predict([X_test.loc[2002]])"
   ]
  },
  {
   "cell_type": "code",
   "execution_count": null,
   "metadata": {},
   "outputs": [],
   "source": []
  }
 ],
 "metadata": {
  "colab": {
   "authorship_tag": "ABX9TyMg7GbHOM8G8CGacYPCE8gr",
   "collapsed_sections": [],
   "mount_file_id": "1iPDhDGIS8sddrK9ZxjjB0xDJfE3f54Dh",
   "name": "Lab6.ipynb",
   "provenance": []
  },
  "kernelspec": {
   "display_name": "Python 3",
   "language": "python",
   "name": "python3"
  },
  "language_info": {
   "codemirror_mode": {
    "name": "ipython",
    "version": 3
   },
   "file_extension": ".py",
   "mimetype": "text/x-python",
   "name": "python",
   "nbconvert_exporter": "python",
   "pygments_lexer": "ipython3",
   "version": "3.8.6"
  }
 },
 "nbformat": 4,
 "nbformat_minor": 1
}
