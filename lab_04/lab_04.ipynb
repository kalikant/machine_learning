{
 "cells": [
  {
   "cell_type": "markdown",
   "metadata": {},
   "source": [
    "# Importing packages"
   ]
  },
  {
   "cell_type": "code",
   "execution_count": null,
   "metadata": {},
   "outputs": [],
   "source": [
    "import numpy as np\n",
    "import matplotlib.pyplot as plt\n",
    "from scipy.stats import norm\n",
    "import seaborn as sns"
   ]
  },
  {
   "cell_type": "markdown",
   "metadata": {},
   "source": [
    "# Generating normal data"
   ]
  },
  {
   "cell_type": "code",
   "execution_count": null,
   "metadata": {},
   "outputs": [],
   "source": [
    "#generating normal data with mean = 0 and sd = 1\n",
    "normal_data = np.random.randn(100000)"
   ]
  },
  {
   "cell_type": "code",
   "execution_count": null,
   "metadata": {},
   "outputs": [],
   "source": [
    "#visualizing the distribution of the data\n",
    "fig, axs = plt.subplots(figsize = (10,5))\n",
    "axs.hist(normal_data, bins=30)\n",
    "axs.set_title(\"Histogram of generated data\")\n",
    "axs.set_xlabel(\"Bins\")\n",
    "axs.set_ylabel(\"Count\")"
   ]
  },
  {
   "cell_type": "code",
   "execution_count": null,
   "metadata": {},
   "outputs": [],
   "source": [
    "# Generating normal data with custom mean and sd\n",
    "normal_data = np.random.normal(loc=65, scale=3, size=(100000))"
   ]
  },
  {
   "cell_type": "code",
   "execution_count": null,
   "metadata": {},
   "outputs": [],
   "source": [
    "#visualizing the distribution of the data\n",
    "fig, axs = plt.subplots(figsize = (10,5))\n",
    "axs.hist(normal_data, bins=30)\n",
    "axs.set_title(\"Histogram of generated data\")\n",
    "axs.set_xlabel(\"Bins\")\n",
    "axs.set_ylabel(\"Count\")"
   ]
  },
  {
   "cell_type": "code",
   "execution_count": null,
   "metadata": {},
   "outputs": [],
   "source": [
    "# Generating 1000 exam scores following normal distribution with mean 65 and sd = 9\n",
    "normal_data = np.random.normal(loc=65, scale=9, size=(1000))"
   ]
  },
  {
   "cell_type": "code",
   "execution_count": null,
   "metadata": {
    "scrolled": true
   },
   "outputs": [],
   "source": [
    "#visualizing the distribution of the data\n",
    "plt.hist(normal_data, bins=20, rwidth=0.8, density=True)\n",
    "plt.title(\"Histogram of generated data\")\n",
    "plt.xlabel(\"Bins\")\n",
    "plt.ylabel(\"Count\")\n",
    "\n",
    "rng = np.arange(np.min(normal_data), np.max(normal_data), 0.1)\n",
    "plt.plot(rng, norm.pdf(rng, np.mean(normal_data), np.std(normal_data)))"
   ]
  },
  {
   "cell_type": "code",
   "execution_count": null,
   "metadata": {},
   "outputs": [],
   "source": [
    "print(\"The mean of the scores is \", np.round(np.mean(normal_data)))\n",
    "print(\"The standard deviation of the scores is\", np.round(np.std(normal_data)))"
   ]
  },
  {
   "cell_type": "code",
   "execution_count": null,
   "metadata": {},
   "outputs": [],
   "source": [
    "# calculating z-score for x=55\n",
    "avg = np.round(np.mean(normal_data))\n",
    "std = np.round(np.std(normal_data))\n",
    "\n",
    "z_score = np.round((55 - avg)/std, 2)\n",
    "print(\"The z-score for give x value is :\", z_score)"
   ]
  },
  {
   "cell_type": "code",
   "execution_count": null,
   "metadata": {},
   "outputs": [],
   "source": [
    "# calculating probability\n",
    "prob = np.round(norm.cdf(z_score),2)\n",
    "\n",
    "print(\"The probability of getting score less than 55 is \", prob)"
   ]
  },
  {
   "cell_type": "code",
   "execution_count": null,
   "metadata": {},
   "outputs": [],
   "source": [
    "prob_under = norm.cdf(x=-1.11, loc=0, scale=1)\n",
    "prob_above = 1 - prob_under\n",
    "\n",
    "print(prob_under)\n",
    "print(prob_above)"
   ]
  },
  {
   "cell_type": "code",
   "execution_count": null,
   "metadata": {
    "scrolled": true
   },
   "outputs": [],
   "source": [
    "plt.rcParams['figure.figsize'] = (5,5)\n",
    "\n",
    "plt.fill_between(x=np.arange(-3, -1.11, 0.01),\n",
    "                y1=norm.pdf(np.arange(-3, -1.11, 0.01)),\n",
    "                facecolor='red',\n",
    "                alpha=0.35)\n",
    "plt.fill_between(x=np.arange(-1, 3, 0.01),\n",
    "                y1=norm.pdf(np.arange(-1, 3, 0.01)),\n",
    "                facecolor = \"blue\",\n",
    "                alpha = 0.35)\n",
    "plt.text(x=-1.8, y=0.05, s=round(prob_under,2))\n",
    "plt.text(x=0.5, y=0.05, s=round(prob_above,2))\n",
    "\n",
    "plt.title(\"Standard normal distibution\")\n",
    "plt.xlabel(\"Z-Score\")"
   ]
  },
  {
   "cell_type": "code",
   "execution_count": null,
   "metadata": {},
   "outputs": [],
   "source": [
    "# calculating z-score for x=85\n",
    "avg = np.round(np.mean(normal_data))\n",
    "std = np.round(np.std(normal_data))\n",
    "\n",
    "z_score = np.round((85 - avg)/std, 2)\n",
    "print(\"The z-score for give x value is :\", z_score)"
   ]
  },
  {
   "cell_type": "code",
   "execution_count": null,
   "metadata": {},
   "outputs": [],
   "source": [
    "# calculating probability\n",
    "prob = np.round(norm.cdf(z_score),2)\n",
    "\n",
    "prob_above_85 = round(1 - prob, 2)\n",
    "\n",
    "print(\"The probability of getting score greater than 85 is \", prob_above_85)"
   ]
  },
  {
   "cell_type": "code",
   "execution_count": null,
   "metadata": {
    "scrolled": true
   },
   "outputs": [],
   "source": [
    "prob_under = norm.cdf(x=2.22, loc=0, scale=1)\n",
    "prob_above = 1 - prob_under\n",
    "\n",
    "print(prob_under)\n",
    "print(prob_above)"
   ]
  },
  {
   "cell_type": "code",
   "execution_count": null,
   "metadata": {
    "scrolled": true
   },
   "outputs": [],
   "source": [
    "plt.rcParams['figure.figsize'] = (7,5)\n",
    "\n",
    "plt.fill_between(x=np.arange(-3, 2.22, 0.01),\n",
    "                y1=norm.pdf(np.arange(-3, 2.22, 0.01)),\n",
    "                facecolor='blue',\n",
    "                alpha=0.35)\n",
    "plt.fill_between(x=np.arange(2.22, 3, 0.01),\n",
    "                y1=norm.pdf(np.arange(2.22, 3, 0.01)),\n",
    "                facecolor = \"red\",\n",
    "                alpha = 0.35)\n",
    "plt.text(x=0, y=0.05, s=round(prob_under,2))\n",
    "plt.text(x=2.5, y=0.01, s=round(prob_above,2))\n",
    "\n",
    "plt.title(\"Standard normal distibution\")\n",
    "plt.xlabel(\"Z-Score\")"
   ]
  },
  {
   "cell_type": "code",
   "execution_count": null,
   "metadata": {},
   "outputs": [],
   "source": [
    "# calculating z-score for x=85\n",
    "avg = np.round(np.mean(normal_data))\n",
    "std = np.round(np.std(normal_data))\n",
    "\n",
    "z_score_70 = np.round((70 - avg)/std, 2)\n",
    "print(\"The z-score value for x = 70 is :\", z_score_70)\n",
    "\n",
    "z_score_80 = np.round((80 - avg)/std, 2)\n",
    "print(\"The z-score value for x = 80 is :\", z_score_80)"
   ]
  },
  {
   "cell_type": "code",
   "execution_count": null,
   "metadata": {},
   "outputs": [],
   "source": [
    "# calculating probability\n",
    "prob_70 = norm.cdf(x=0.56, loc = 0, scale = 1)\n",
    "prob_80 = norm.cdf(x=1.67, loc = 0, scale = 1)\n",
    "\n",
    "prob_between_70_80 = round(prob_80 - prob_70, 2)\n",
    "\n",
    "print(\"The probability of getting score between 70 and 80 is \", prob_between_70_80)"
   ]
  },
  {
   "cell_type": "code",
   "execution_count": null,
   "metadata": {},
   "outputs": [],
   "source": [
    "prob_below = prob_70\n",
    "prob_above = 1 - prob_80\n",
    "prob_between = prob_between_70_80\n",
    "\n",
    "print(prob_below)\n",
    "print(prob_above)\n",
    "print(prob_between)"
   ]
  },
  {
   "cell_type": "code",
   "execution_count": null,
   "metadata": {
    "scrolled": true
   },
   "outputs": [],
   "source": [
    "plt.rcParams['figure.figsize'] = (7,5)\n",
    "\n",
    "plt.fill_between(x=np.arange(-3, 0.56, 0.01),\n",
    "                y1=norm.pdf(np.arange(-3, 0.56, 0.01)),\n",
    "                facecolor='red',\n",
    "                alpha=0.35)\n",
    "plt.fill_between(x=np.arange(0.56, 1.67, 0.01),\n",
    "                y1=norm.pdf(np.arange(0.56, 1.67, 0.01)),\n",
    "                facecolor = \"blue\",\n",
    "                alpha = 0.35)\n",
    "plt.fill_between(x=np.arange(1.67, 3, 0.01),\n",
    "                y1=norm.pdf(np.arange(1.67, 3, 0.01)),\n",
    "                facecolor = \"red\",\n",
    "                alpha = 0.35)\n",
    "plt.text(x=0, y=0.05, s=round(prob_below,2))\n",
    "plt.text(x=2.0, y=0.01, s=round(prob_above,2))\n",
    "plt.text(x=1.12, y=0.05, s=round(prob_between,2))\n",
    "\n",
    "\n",
    "plt.title(\"Standard normal distibution\")\n",
    "plt.xlabel(\"Z-Score\")"
   ]
  },
  {
   "cell_type": "markdown",
   "metadata": {},
   "source": [
    "# Confidence Intervals"
   ]
  },
  {
   "cell_type": "code",
   "execution_count": null,
   "metadata": {},
   "outputs": [],
   "source": [
    "#initializing the variables\n",
    "n = 44\n",
    "xbar = 10.455\n",
    "sigma = 7.7"
   ]
  },
  {
   "cell_type": "code",
   "execution_count": null,
   "metadata": {},
   "outputs": [],
   "source": [
    "#computing confidence interval for population mean\n",
    "\n",
    "#Standard Error\n",
    "SE = round(sigma/np.sqrt(n), 2)\n",
    "print(\"Standard Error: \", SE)\n",
    "\n",
    "#Margin Error at 90% Confidence Level\n",
    "#Z-score for 90% probability is 1.65\n",
    "\n",
    "ME = round(1.65*(SE), 2)\n",
    "print(\"Margin Error: \", ME)\n",
    "\n",
    "#confidence interval\n",
    "lower_limit = round(xbar - ME, 2)\n",
    "upper_limit = round(xbar + ME, 2)\n",
    "\n",
    "print(\"Confidence Interval: \", (lower_limit, upper_limit))"
   ]
  },
  {
   "cell_type": "markdown",
   "metadata": {},
   "source": [
    "# Confidence Interval using t-distribution"
   ]
  },
  {
   "cell_type": "code",
   "execution_count": null,
   "metadata": {
    "scrolled": true
   },
   "outputs": [],
   "source": [
    "#initializing the variables\n",
    "data = [98.6,102.1, 100.7, 102.0, 97.0, \n",
    "        103.4, 98.9, 101.6, 102.9, 105.2]\n",
    "\n",
    "xbar = np.mean(data)\n",
    "n = np.count_nonzero(data)\n",
    "sigma = np.std(data)\n",
    "degree_freedom = n - 1\n",
    "alpha = 0.05/2\n",
    "\n",
    "\n",
    "print(\"mean: \", xbar)\n",
    "print(\"sample size: \", n)\n",
    "print(\"standard deviation: \", sigma)\n",
    "print(\"degrees of freedom: \", degree_freedom)\n",
    "print(\"alpha :\", alpha)"
   ]
  },
  {
   "cell_type": "code",
   "execution_count": null,
   "metadata": {},
   "outputs": [],
   "source": [
    "#t value from t table(df=9, alpha/2=0.025)\n",
    "t_table = 2.262\n",
    "\n",
    "#standard error\n",
    "SE = round(sigma/np.sqrt(n), 2)\n",
    "print(\"Stnadard Error: \", SE)\n",
    "\n",
    "#margin error\n",
    "ME = round(t_table * SE, 2)\n",
    "print(\"Margin Error: \", ME)"
   ]
  },
  {
   "cell_type": "code",
   "execution_count": null,
   "metadata": {},
   "outputs": [],
   "source": [
    "#confidence interval\n",
    "lower_limit = xbar - ME\n",
    "upper_limit = xbar + ME\n",
    "\n",
    "CI = (lower_limit, upper_limit)\n",
    "\n",
    "print(\"Confidence interval for population mean is :\", CI)"
   ]
  },
  {
   "cell_type": "markdown",
   "metadata": {},
   "source": [
    "# Confidence interval for population proportion"
   ]
  },
  {
   "cell_type": "code",
   "execution_count": null,
   "metadata": {},
   "outputs": [],
   "source": [
    "#initializing the variables\n",
    "#sample_proportion \n",
    "p = 450/1500\n",
    "n = 1500\n",
    "print(\"sample proportion: \", p)"
   ]
  },
  {
   "cell_type": "code",
   "execution_count": null,
   "metadata": {},
   "outputs": [],
   "source": [
    "#z value from z-table(alpha/2 = 0.025)\n",
    "z_score = 1.65\n",
    "\n",
    "#calculating standard error\n",
    "SE = round(np.sqrt((p*(1-p))/n), 4)\n",
    "print(\"Standard Error: \", SE)\n",
    "\n",
    "#calculate margin error\n",
    "ME = round(1.65*SE, 2)\n",
    "print(\"Margin Error: \", ME)"
   ]
  },
  {
   "cell_type": "code",
   "execution_count": null,
   "metadata": {},
   "outputs": [],
   "source": [
    "#confidence interval for population proportion\n",
    "lower_limit = round(p - ME, 4)\n",
    "upper_limit = round(p + ME, 4)\n",
    "\n",
    "CI = (lower_limit, upper_limit)\n",
    "print(\"Confidence Interval for population proportion is :\", CI)"
   ]
  },
  {
   "cell_type": "markdown",
   "metadata": {},
   "source": [
    "# Confidence interval for variance"
   ]
  },
  {
   "cell_type": "code",
   "execution_count": null,
   "metadata": {},
   "outputs": [],
   "source": [
    "#initializing the variables\n",
    "#significance level = 5%\n",
    "alpha = 0.01 \n",
    "\n",
    "#sample sinze\n",
    "n = 30\n",
    "\n",
    "#sample standard deviation\n",
    "var = (1.20 * 1.20)\n",
    "\n",
    "#degrees of freedom\n",
    "df = n-1"
   ]
  },
  {
   "cell_type": "code",
   "execution_count": null,
   "metadata": {
    "scrolled": true
   },
   "outputs": [],
   "source": [
    "#import package\n",
    "from scipy import stats\n",
    "\n",
    "#calculating confidence interval\n",
    "upper = round(((n -1) * var / stats.chi2.ppf(alpha/2, df)),4)\n",
    "lower = round(((n -1) * var / stats.chi2.ppf(1 - alpha/2, df)), 4)\n",
    "\n",
    "CI = (lower, upper)\n",
    "print(\"Confidence interval for variance is :\", CI)"
   ]
  },
  {
   "cell_type": "markdown",
   "metadata": {},
   "source": [
    "# Hypothesis Testing"
   ]
  },
  {
   "cell_type": "markdown",
   "metadata": {},
   "source": [
    "### One sample t-Test"
   ]
  },
  {
   "cell_type": "code",
   "execution_count": null,
   "metadata": {},
   "outputs": [],
   "source": [
    "#creating the data\n",
    "\n",
    "data = [14, 14, 16, 13, 12, 17, 15, 14, 15, 13, 15, 14]\n",
    "\n",
    "print(\"Height of 12 randomly sampled plants: \", data)"
   ]
  },
  {
   "cell_type": "code",
   "execution_count": null,
   "metadata": {},
   "outputs": [],
   "source": [
    "#importing packages\n",
    "import scipy.stats as stats\n",
    "\n",
    "#perform one sample t-test\n",
    "stats.ttest_1samp(a=data, popmean=15)"
   ]
  },
  {
   "cell_type": "markdown",
   "metadata": {},
   "source": [
    "### Two sample t-Test"
   ]
  },
  {
   "cell_type": "code",
   "execution_count": null,
   "metadata": {},
   "outputs": [],
   "source": [
    "import numpy as np\n",
    "\n",
    "group1 = np.array([14, 15, 15, 16, 13, 8, 14, 17, 16, 14, 19, \n",
    "                   20, 21, 15, 15, 16, 16, 13, 14, 12])\n",
    "group2 = np.array([15, 17, 14, 17, 14, 8, 12, 19, 19, 14, 17, \n",
    "                   22, 24, 16, 13, 16, 13, 18, 15, 13])"
   ]
  },
  {
   "cell_type": "code",
   "execution_count": null,
   "metadata": {},
   "outputs": [],
   "source": [
    "#find variance for each group\n",
    "print(np.var(group1), np.var(group2))"
   ]
  },
  {
   "cell_type": "code",
   "execution_count": null,
   "metadata": {},
   "outputs": [],
   "source": [
    "#find the ratio of variance\n",
    "print(12.26/7.73)"
   ]
  },
  {
   "cell_type": "code",
   "execution_count": null,
   "metadata": {},
   "outputs": [],
   "source": [
    "import scipy.stats as stats\n",
    "\n",
    "#perform two sample t-test with equal variances\n",
    "stats.ttest_ind(a=group1, b=group2, equal_var=True)"
   ]
  },
  {
   "cell_type": "markdown",
   "metadata": {},
   "source": [
    "### Paired sample t-Test"
   ]
  },
  {
   "cell_type": "code",
   "execution_count": null,
   "metadata": {},
   "outputs": [],
   "source": [
    "#creating data\n",
    "\n",
    "pre = [88, 82, 84, 93, 75, 78, 84, 87, 95, \n",
    "       91, 83, 89, 77, 68, 91]\n",
    "post = [91, 84, 88, 90, 79, 80, 88, 90, 90, \n",
    "        96, 88, 89, 81, 74, 92]"
   ]
  },
  {
   "cell_type": "code",
   "execution_count": null,
   "metadata": {},
   "outputs": [],
   "source": [
    "import scipy.stats as stats\n",
    "\n",
    "#perform the paired samples t-test\n",
    "stats.ttest_rel(pre, post)"
   ]
  },
  {
   "cell_type": "code",
   "execution_count": null,
   "metadata": {},
   "outputs": [],
   "source": []
  }
 ],
 "metadata": {
  "kernelspec": {
   "display_name": "Python 3",
   "language": "python",
   "name": "python3"
  },
  "language_info": {
   "codemirror_mode": {
    "name": "ipython",
    "version": 3
   },
   "file_extension": ".py",
   "mimetype": "text/x-python",
   "name": "python",
   "nbconvert_exporter": "python",
   "pygments_lexer": "ipython3",
   "version": "3.8.6"
  }
 },
 "nbformat": 4,
 "nbformat_minor": 2
}
